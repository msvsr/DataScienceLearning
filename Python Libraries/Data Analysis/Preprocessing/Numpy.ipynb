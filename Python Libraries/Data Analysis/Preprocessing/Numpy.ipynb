{
 "cells": [
  {
   "cell_type": "markdown",
   "metadata": {},
   "source": [
    "<a href=\"https://numpy.org/\">Numpy Documenation</a><br>\n",
    "<a href=\"https://numpy.org/devdocs/user/quickstart.html\">Tutorial</a>"
   ]
  },
  {
   "cell_type": "code",
   "execution_count": 2,
   "metadata": {},
   "outputs": [],
   "source": [
    "import numpy as np"
   ]
  },
  {
   "cell_type": "markdown",
   "metadata": {},
   "source": [
    ">Key Points\n",
    "<ol>\n",
    "<li>NumPy’s main object is the homogeneous multidimensional array.</li>\n",
    "<li>In NumPy dimensions are called <b>axes</b>.</li>\n",
    "<li>NumPy’s array class is called <b>ndarray</b>.</li>\n",
    "</ol>"
   ]
  },
  {
   "cell_type": "markdown",
   "metadata": {},
   "source": [
    ">Important Attributes of ndarray object are:\n",
    "1. ndim\n",
    "2. shape\n",
    "3. size\n",
    "4. shape\n",
    "5. itemsize\n",
    "6. data"
   ]
  },
  {
   "cell_type": "markdown",
   "metadata": {},
   "source": [
    "#### Array Creation functions\n",
    "\n",
    "1. <a href=\"https://docs.scipy.org/doc/numpy/reference/generated/numpy.array.html#numpy.array\">array</a>\n",
    "2. <a href=\"https://docs.scipy.org/doc/numpy/reference/generated/numpy.empty_like.html#numpy.empty_like\">empty_like</a>\n",
    "3. <a href=\"https://docs.scipy.org/doc/numpy/reference/generated/numpy.ones_like.html#numpy.ones_like\">ones_like</a>\n",
    "4. <a href=\"https://docs.scipy.org/doc/numpy/reference/generated/numpy.zeros_like.html#numpy.zeros_like\">zeroes_like</a>\n",
    "5. <a href=\"https://docs.scipy.org/doc/numpy/reference/generated/numpy.full_like.html#numpy.full_like\">full_like</a>\n",
    "6. <a href=\"https://docs.scipy.org/doc/numpy/reference/generated/numpy.empty.html#numpy.empty\">empty</a>\n",
    "7. <a href=\"https://docs.scipy.org/doc/numpy/reference/generated/numpy.ones.html#numpy.ones\">ones</a>\n",
    "8. <a href=\"https://docs.scipy.org/doc/numpy/reference/generated/numpy.zeros.html#numpy.zeros\">zeros</a>\n",
    "9. <a href=\"https://docs.scipy.org/doc/numpy/reference/generated/numpy.full.html#numpy.full\">full</a>\n",
    "---\n",
    "10. <a href=\"https://jakevdp.github.io/PythonDataScienceHandbook/02.09-structured-data-numpy.html\">Structured Data: NumPy's Structured Arrays</a>\n",
    "\n",
    "---\n",
    "\n",
    "11. <a href=\"https://numpy.org/devdocs/reference/generated/numpy.arange.html#numpy.arange\">arange</a>\n",
    "12. <a href=\"https://numpy.org/devdocs/reference/generated/numpy.linspace.html#numpy.linspace\">linspace</a>\n",
    "\n",
    "---\n",
    "\n",
    "13. <a href=\"https://docs.scipy.org/doc/numpy-1.14.0/reference/routines.random.html\">*Random</a>\n",
    "\n",
    "---\n",
    "14. <a href=\"https://numpy.org/devdocs/reference/generated/numpy.fromfunction.html#numpy.fromfunction\">fromfunction</a>\n",
    "15. <a href=\"https://numpy.org/devdocs/reference/generated/numpy.fromfile.html#numpy.fromfile\">fromfile</a>\n",
    "\n",
    "---\n",
    "16. <a href=\"https://docs.scipy.org/doc/numpy/reference/generated/numpy.ndarray.reshape.html#numpy.ndarray.reshape\">ndarray.reshape</a>\n",
    "17. <a href=\"https://docs.scipy.org/doc/numpy/reference/generated/numpy.reshape.html\">numpy.reshape</a>\n",
    "---\n",
    "18. <a href=\"https://docs.scipy.org/doc/numpy/reference/generated/numpy.set_printoptions.html#numpy-set-printoptions\">set_printoptions</a>\n",
    "---\n",
    "19. <a href=\"https://numpy.org/devdocs/user/quickstart.html#basic-operations\">Basic Operations</a>\n",
    "---\n",
    "20. <a href=\"https://numpy.org/devdocs/user/quickstart.html#indexing-slicing-and-iterating\">Indexing, slicing and Iterating</a>\n",
    "21. <a href=\"https://numpy.org/devdocs/user/quickstart.html#shape-manipulation\">Shape manipulation:ndarray.shape, reshape, resize, ravel</a>\n",
    "---\n",
    "22. <a href=\"https://numpy.org/devdocs/user/quickstart.html#functions-and-methods-overview\">Functions methods & Overview</a>\n",
    "---\n",
    "23. <a href=\"https://docs.scipy.org/doc/numpy-1.13.0/reference/routines.set.html\">Set Operations on numpy arrays</a>"
   ]
  },
  {
   "cell_type": "code",
   "execution_count": 121,
   "metadata": {},
   "outputs": [
    {
     "name": "stdout",
     "output_type": "stream",
     "text": [
      "[1 2 3 4 5 6]\n",
      "[1 2 3 4 5 6]\n",
      "[1. 2. 3. 4. 5. 6.]\n",
      "[[ 1  2  3  4  5]\n",
      " [ 6  7  8  9 10]]\n",
      "[[[1 2 3]\n",
      "  [4 5 6]]]\n",
      "6\n",
      "(1, 2, 3)\n",
      "[[1. 1. 1.]\n",
      " [1. 1. 1.]\n",
      " [1. 1. 1.]]\n",
      "[[4607182418800017408 4607182418800017408 4607182418800017408]\n",
      " [4607182418800017408 4607182418800017408 4607182418800017408]\n",
      " [4607182418800017408 4607182418800017408 4607182418800017408]]\n",
      "[[0 0 0]\n",
      " [0 0 0]\n",
      " [0 0 0]]\n",
      "[[0. 0. 0.]\n",
      " [0. 0. 0.]\n",
      " [0. 0. 0.]]\n",
      "[[1. 1. 1.]\n",
      " [1. 1. 1.]\n",
      " [1. 1. 1.]]\n",
      "[[1 1 1]\n",
      " [1 1 1]\n",
      " [1 1 1]]\n",
      "[0.1 0.1 0.1 0.1 0.1 0.1]\n",
      "[3 3 3 3 3 3]\n",
      "[[0.1 0.1]\n",
      " [0.1 0.1]\n",
      " [0.1 0.1]]\n",
      "[[3 3]\n",
      " [3 3]\n",
      " [3 3]]\n",
      "[0 1 2 3 4 5 6 7 8 9]\n",
      "[0.         0.07894737 0.15789474 0.23684211 0.31578947 0.39473684\n",
      " 0.47368421 0.55263158 0.63157895 0.71052632 0.78947368 0.86842105\n",
      " 0.94736842 1.02631579 1.10526316 1.18421053 1.26315789 1.34210526\n",
      " 1.42105263 1.5       ]\n",
      "[[[0.51697252 0.0348674  0.51414527 0.12019085]\n",
      "  [0.27529236 0.68874408 0.64414535 0.02551836]\n",
      "  [0.6507366  0.32860161 0.04696607 0.456844  ]]\n",
      "\n",
      " [[0.75838535 0.93811248 0.48806849 0.54801559]\n",
      "  [0.72341072 0.17030737 0.62382138 0.52116666]\n",
      "  [0.88379827 0.61972643 0.59254975 0.45699552]]]\n",
      "[-1.26910808  0.47217918  0.34208914 -0.53352153  1.10997006  0.18941493\n",
      "  2.25460595  0.95458329  0.97777187 -0.68327414]\n",
      "[[[-0.39762273 -0.42055409 -0.82800823]\n",
      "  [-0.54804241  0.19579055  0.14498071]]]\n",
      "[6.95891252 4.65824268 6.0213757  5.12349355 4.41210858 4.47238596\n",
      " 5.21592669 4.4898026  3.0623674  5.22722363]\n",
      "[[0 1 2 3 4]\n",
      " [5 6 7 8 9]]\n",
      "[[0 1]\n",
      " [2 3]\n",
      " [4 5]\n",
      " [6 7]\n",
      " [8 9]]\n"
     ]
    }
   ],
   "source": [
    "#array\n",
    "nparray_from_pylist = np.array([1,2,3,4,5,6])\n",
    "nparray_from_pytuple = np.array((1,2,3,4,5,6))\n",
    "print(nparray_from_pylist)\n",
    "print(nparray_from_pytuple)\n",
    "\n",
    "nparray_dtype = np.array([1,2,3,4,5,6],dtype=np.float64)\n",
    "print(nparray_dtype)\n",
    "\n",
    "nparray_multidimensional = np.array([(1,2,3,4,5),(6,7,8,9,10)])\n",
    "print(nparray_multidimensional)\n",
    "\n",
    "nparray_ndim = np.array([[1,2,3],[4,5,6]],ndmin=3)\n",
    "print(nparray_ndim)\n",
    "print(nparray_ndim.size)\n",
    "print(nparray_ndim.shape)\n",
    "\n",
    "nparray_empty = np.empty((3,3))\n",
    "print(nparray_empty)\n",
    "nparray_empty_like = np.empty_like(nparray_empty,dtype=np.int64)\n",
    "print(nparray_empty_like)\n",
    "\n",
    "nparray_zeros = np.zeros((3,3),dtype=np.int64)\n",
    "print(nparray_zeros)\n",
    "nparray_zeros_like = np.zeros_like(nparray_zeros,dtype=np.float64)\n",
    "print(nparray_zeros_like)\n",
    "\n",
    "nparray_ones = np.ones((3,3),dtype=np.float64)\n",
    "print(nparray_ones)\n",
    "nparray_ones_like = np.ones_like(nparray_ones, dtype=np.int16)\n",
    "print(nparray_ones_like)\n",
    "\n",
    "nparray_full = np.full(6,0.1)\n",
    "print(nparray_full)\n",
    "nparray_full_like = np.full_like(nparray_full,3.8,dtype=np.int64)\n",
    "print(nparray_full_like)\n",
    "nparray_full = np.full((3,2),0.1)\n",
    "print(nparray_full)\n",
    "nparray_full_like = np.full_like(nparray_full,3.8,dtype=np.int64)\n",
    "print(nparray_full_like)\n",
    "\n",
    "nparray_arange = np.arange(10)\n",
    "print(nparray_arange)\n",
    "\n",
    "nparray_linspace = np.linspace(0.0, 1.5,20)\n",
    "print(nparray_linspace)\n",
    "\n",
    "nparray_rand = np.random.rand(2,3,4)\n",
    "print(nparray_rand)\n",
    "\n",
    "#Mean-0 variance-1\n",
    "nparray_randn = np.random.randn(10)\n",
    "print(nparray_randn)\n",
    "nparray_randn = np.random.randn(1,2,3)\n",
    "print(nparray_randn)\n",
    "#For random samples from N(\\mu, \\sigma^2), use:\n",
    "#sigma * np.random.randn(...) + mu\n",
    "#Mean-5 variance-1\n",
    "nparray_randn =1*np.random.randn(10)+5\n",
    "print(nparray_randn)\n",
    "\n",
    "nparray_ndarray_reshape = np.arange(10).reshape(2,5)\n",
    "print(nparray_ndarray_reshape)\n",
    "\n",
    "nparray_numpy_reshape = np.reshape(nparray_ndarray_reshape,(5,2))\n",
    "print(nparray_numpy_reshape)\n"
   ]
  },
  {
   "cell_type": "markdown",
   "metadata": {},
   "source": [
    "##### Numpy Exercises\n",
    "<a href=\"https://www.machinelearningplus.com/python/101-numpy-exercises-python/\"> Q & A Practice</a>"
   ]
  },
  {
   "cell_type": "code",
   "execution_count": 2,
   "metadata": {},
   "outputs": [
    {
     "name": "stdout",
     "output_type": "stream",
     "text": [
      "1.18.1\n"
     ]
    }
   ],
   "source": [
    "#1 Import numpy as np and print the version number\n",
    "import numpy as np\n",
    "print(np.__version__)"
   ]
  },
  {
   "cell_type": "code",
   "execution_count": 123,
   "metadata": {},
   "outputs": [
    {
     "name": "stdout",
     "output_type": "stream",
     "text": [
      "[0 1 2 3 4 5 6 7 8 9]\n"
     ]
    }
   ],
   "source": [
    "#2 Create a 1D array of numbers from 0 to 9\n",
    "arr = np.arange(10)\n",
    "print(arr)"
   ]
  },
  {
   "cell_type": "code",
   "execution_count": 124,
   "metadata": {},
   "outputs": [
    {
     "name": "stdout",
     "output_type": "stream",
     "text": [
      "[[ True  True  True]\n",
      " [ True  True  True]\n",
      " [ True  True  True]]\n",
      "[[ True  True  True]\n",
      " [ True  True  True]\n",
      " [ True  True  True]]\n",
      "[[False False False]\n",
      " [False False False]\n",
      " [False False False]]\n"
     ]
    }
   ],
   "source": [
    "#3 Create a 3×3 numpy array of all True’s\n",
    "bool_arr = np.full((3,3),True,dtype=bool)\n",
    "print(bool_arr)\n",
    "\n",
    "#Alternate Method\n",
    "bool_arr = np.ones((3,3),dtype=bool)\n",
    "print(bool_arr)\n",
    "#With False\n",
    "bool_arr_false = np.zeros((3,3),dtype=bool)\n",
    "print(bool_arr_false)"
   ]
  },
  {
   "cell_type": "code",
   "execution_count": 125,
   "metadata": {},
   "outputs": [
    {
     "name": "stdout",
     "output_type": "stream",
     "text": [
      "[1 3 5 7 9]\n"
     ]
    }
   ],
   "source": [
    "#4  Extract all odd numbers from arr\n",
    "print(arr[arr%2==1])"
   ]
  },
  {
   "cell_type": "code",
   "execution_count": 126,
   "metadata": {},
   "outputs": [
    {
     "name": "stdout",
     "output_type": "stream",
     "text": [
      "[ 0 -1  2 -1  4 -1  6 -1  8 -1]\n"
     ]
    }
   ],
   "source": [
    "#5  Replace all odd numbers in arr with -1\n",
    "arr[arr%2==1]=-1\n",
    "print(arr)"
   ]
  },
  {
   "cell_type": "code",
   "execution_count": 127,
   "metadata": {},
   "outputs": [
    {
     "name": "stdout",
     "output_type": "stream",
     "text": [
      "[ 0 -1  2 -1  4 -1  6 -1  8 -1]\n",
      "[ 0 -1  2 -1  4 -1  6 -1  8 -1]\n"
     ]
    }
   ],
   "source": [
    "#6 Replace all odd numbers in arr with -1 without changing arr\n",
    "#Using where\n",
    "out_arr = np.where(arr%2==1,-1,arr)\n",
    "print(arr)\n",
    "print(out_arr)"
   ]
  },
  {
   "cell_type": "code",
   "execution_count": 128,
   "metadata": {},
   "outputs": [
    {
     "name": "stdout",
     "output_type": "stream",
     "text": [
      "[[ 0 -1  2 -1  4]\n",
      " [-1  6 -1  8 -1]]\n"
     ]
    }
   ],
   "source": [
    "#7 Convert a 1D array to a 2D array with 2 rows\n",
    "reshaped_arr = arr.reshape(2,5) \n",
    "'''Alternative way arr.reshape(2,-1)'''\n",
    "print(reshaped_arr)"
   ]
  },
  {
   "cell_type": "code",
   "execution_count": 129,
   "metadata": {},
   "outputs": [],
   "source": [
    "a=np.arange(10).reshape(2,-1)\n",
    "b=np.repeat(1,10).reshape(2,-1)"
   ]
  },
  {
   "cell_type": "code",
   "execution_count": 130,
   "metadata": {},
   "outputs": [
    {
     "name": "stdout",
     "output_type": "stream",
     "text": [
      "[[0 1 2 3 4]\n",
      " [5 6 7 8 9]\n",
      " [1 1 1 1 1]\n",
      " [1 1 1 1 1]]\n"
     ]
    }
   ],
   "source": [
    "#8 Stack arrays a and b vertically\n",
    "vstack_ab = np.vstack((a,b))\n",
    "'''\n",
    "Alternative ways:\n",
    "np.concatenate([a, b], axis=0)\n",
    "np.r_[a, b]\n",
    "'''\n",
    "print(vstack_ab)\n"
   ]
  },
  {
   "cell_type": "code",
   "execution_count": 131,
   "metadata": {},
   "outputs": [
    {
     "name": "stdout",
     "output_type": "stream",
     "text": [
      "[[0 1 2 3 4 1 1 1 1 1]\n",
      " [5 6 7 8 9 1 1 1 1 1]]\n"
     ]
    }
   ],
   "source": [
    "#9 Stack the arrays a and b horizontally.\n",
    "hstack_ab = np.hstack([a,b])\n",
    "'''\n",
    "Alternative ways\n",
    "print(np.concatenate([a, b], axis=1))\n",
    "print(np.c_[a, b])\n",
    "'''\n",
    "print(hstack_ab)"
   ]
  },
  {
   "cell_type": "code",
   "execution_count": 132,
   "metadata": {},
   "outputs": [
    {
     "name": "stdout",
     "output_type": "stream",
     "text": [
      "[1 1 1 2 2 2 3 3 3 1 2 3 1 2 3 1 2 3]\n"
     ]
    }
   ],
   "source": [
    "#10 Create the following pattern without hardcoding. Use only numpy functions and the below input array a\n",
    "'''\n",
    "a = np.array([1,2,3])\n",
    "array([1, 1, 1, 2, 2, 2, 3, 3, 3, 1, 2, 3, 1, 2, 3, 1, 2, 3])\n",
    "'''\n",
    "a=np.array([1,2,3])\n",
    "pattern1 = np.r_[np.repeat(a,3),np.tile(a,3)]\n",
    "print(pattern1)"
   ]
  },
  {
   "cell_type": "code",
   "execution_count": 133,
   "metadata": {},
   "outputs": [
    {
     "name": "stdout",
     "output_type": "stream",
     "text": [
      "[2 4]\n"
     ]
    }
   ],
   "source": [
    "#11 Get the common items between a and b\n",
    "a1d = np.array([1,2,3,2,3,4,3,4,5,6])\n",
    "b1d = np.array([7,2,10,2,7,4,9,4,9,8])\n",
    "common_ab = np.intersect1d(a1d,b1d)\n",
    "print(common_ab)\n",
    "\n",
    "# a2d = np.array([1,2,3,2,3,4,3,4,5,6]).reshape(2,5)\n",
    "# b2d = np.array([7,2,10,2,7,4,9,4,9,8]).reshape(2,5)\n",
    "# common_ab=np.intersect2d(a2d,b2d)\n",
    "# print(common_ab)\n",
    "\n"
   ]
  },
  {
   "cell_type": "code",
   "execution_count": 134,
   "metadata": {},
   "outputs": [
    {
     "name": "stdout",
     "output_type": "stream",
     "text": [
      "[1 2 3 4]\n"
     ]
    }
   ],
   "source": [
    "#12 From array a remove all items present in array b\n",
    "a1d = np.array([1,2,3,4,5])\n",
    "b1d = np.array([5,6,7,8,9])\n",
    "setdiff_ab = np.setdiff1d(a1d,b1d)\n",
    "print(setdiff_ab)"
   ]
  },
  {
   "cell_type": "code",
   "execution_count": 135,
   "metadata": {},
   "outputs": [
    {
     "name": "stdout",
     "output_type": "stream",
     "text": [
      "(array([1, 3, 5, 7], dtype=int32),)\n"
     ]
    }
   ],
   "source": [
    "#13 Get the positions where elements of a and b match\n",
    "a = np.array([1,2,3,2,3,4,3,4,5,6])\n",
    "b = np.array([7,2,10,2,7,4,9,4,9,8])\n",
    "positions_ab=np.where(a==b)\n",
    "print(positions_ab)"
   ]
  },
  {
   "cell_type": "code",
   "execution_count": 136,
   "metadata": {},
   "outputs": [
    {
     "name": "stdout",
     "output_type": "stream",
     "text": [
      "[ 6  9 10]\n"
     ]
    }
   ],
   "source": [
    "#14 Get all items between 5 and 10 from a.\n",
    "a = np.array([2, 6, 1, 9, 10, 3, 27])\n",
    "between_range_in_array = a[np.where((a>=5) & (a<=10))]\n",
    "print(between_range_in_array)"
   ]
  },
  {
   "cell_type": "code",
   "execution_count": 137,
   "metadata": {},
   "outputs": [
    {
     "name": "stdout",
     "output_type": "stream",
     "text": [
      "[6 7 9 8 9 7 5]\n"
     ]
    }
   ],
   "source": [
    "#15 Convert the function maxx that works on two scalars, to work on two arrays.\n",
    "\n",
    "#Function maxx\n",
    "def maxx(x, y):\n",
    "    \"\"\"Get the maximum of two items\"\"\"\n",
    "    if x >= y:\n",
    "        return x\n",
    "    else:\n",
    "        return y\n",
    "\n",
    "a = np.array([5, 7, 9, 8, 6, 4, 5])\n",
    "b = np.array([6, 3, 4, 8, 9, 7, 1])\n",
    "\n",
    "#Use vectorize\n",
    "pair_max = np.vectorize(maxx, otypes=[int])\n",
    "# pair_max = np.vectorize(maxx, otypes=[float]) #For float\n",
    "max_ab = pair_max(a,b)\n",
    "print(max_ab)"
   ]
  },
  {
   "cell_type": "code",
   "execution_count": 138,
   "metadata": {},
   "outputs": [],
   "source": [
    "arr = np.arange(9).reshape(3,3)"
   ]
  },
  {
   "cell_type": "code",
   "execution_count": 139,
   "metadata": {},
   "outputs": [
    {
     "name": "stdout",
     "output_type": "stream",
     "text": [
      "[[1 0 2]\n",
      " [4 3 5]\n",
      " [7 6 8]]\n"
     ]
    }
   ],
   "source": [
    "#16 Swap columns 1 and 2 in the array arr.\n",
    "arr_col_swap = arr[:,[1,0,2]]\n",
    "print(arr_col_swap)"
   ]
  },
  {
   "cell_type": "code",
   "execution_count": 140,
   "metadata": {},
   "outputs": [
    {
     "name": "stdout",
     "output_type": "stream",
     "text": [
      "[[3 4 5]\n",
      " [0 1 2]\n",
      " [6 7 8]]\n"
     ]
    }
   ],
   "source": [
    "#17 Swap rows 1 and 2 in the array arr\n",
    "arr_row_swap = arr[[1,0,2],:]\n",
    "print(arr_row_swap)"
   ]
  },
  {
   "cell_type": "code",
   "execution_count": 141,
   "metadata": {},
   "outputs": [
    {
     "name": "stdout",
     "output_type": "stream",
     "text": [
      "[[6 7 8]\n",
      " [3 4 5]\n",
      " [0 1 2]]\n"
     ]
    }
   ],
   "source": [
    "#18 Reverse the rows of a 2D array arr.\n",
    "arr_row_reverse = arr[::-1,:]\n",
    "print(arr_row_reverse)"
   ]
  },
  {
   "cell_type": "code",
   "execution_count": 142,
   "metadata": {},
   "outputs": [
    {
     "name": "stdout",
     "output_type": "stream",
     "text": [
      "[[2 1 0]\n",
      " [5 4 3]\n",
      " [8 7 6]]\n"
     ]
    }
   ],
   "source": [
    "#19 Reverse the columns of a 2D array arr.\n",
    "arr_col_reverse = arr[:,::-1]\n",
    "print(arr_col_reverse)"
   ]
  },
  {
   "cell_type": "code",
   "execution_count": 143,
   "metadata": {},
   "outputs": [
    {
     "name": "stdout",
     "output_type": "stream",
     "text": [
      "[[8.74644132 5.05533209 6.30029112]\n",
      " [7.82719638 5.83656737 8.62494695]\n",
      " [7.91309762 8.69221266 6.30082794]\n",
      " [6.05515282 8.80131216 6.55562104]\n",
      " [7.77815242 8.52784336 6.59865329]]\n"
     ]
    }
   ],
   "source": [
    "#20 Create a 2D array of shape 5x3 to contain random decimal numbers between 5 and 10.\n",
    "random_2d_float_arr = np.random.randint(5,10,(5,3))+np.random.random((5,3))\n",
    "'''\n",
    "Another way:\n",
    "random_2d_float_arr = np.random.uniform(5,10, size=(5,3))\n",
    "'''\n",
    "print(random_2d_float_arr)"
   ]
  },
  {
   "cell_type": "code",
   "execution_count": 3,
   "metadata": {},
   "outputs": [
    {
     "name": "stdout",
     "output_type": "stream",
     "text": [
      "0.8971484186768155\n"
     ]
    }
   ],
   "source": [
    "#21 Print or show only 3 decimal places of the numpy array rand_arr\n",
    "rand_arr = np.random.uniform()\n",
    "np.set_printoptions(precision=3)\n",
    "print(rand_arr)"
   ]
  },
  {
   "cell_type": "code",
   "execution_count": 5,
   "metadata": {},
   "outputs": [
    {
     "name": "stdout",
     "output_type": "stream",
     "text": [
      "[[0.001 0.    0.   ]\n",
      " [0.001 0.    0.   ]\n",
      " [0.001 0.001 0.   ]]\n"
     ]
    }
   ],
   "source": [
    "#22 Pretty print rand_arr by suppressing the scientific notation (like 1e10)\n",
    "np.random.seed(100)\n",
    "rand_arr = np.random.random([3,3])/1e3\n",
    "np.set_printoptions(suppress=True)\n",
    "print(rand_arr)"
   ]
  },
  {
   "cell_type": "code",
   "execution_count": 6,
   "metadata": {},
   "outputs": [
    {
     "name": "stdout",
     "output_type": "stream",
     "text": [
      "[ 0  1  2 ... 12 13 14]\n"
     ]
    }
   ],
   "source": [
    "#23 Limit the number of items printed in python numpy array a to a maximum of 6 elements.\n",
    "arr=np.arange(15)\n",
    "np.set_printoptions(threshold=6)\n",
    "print(arr)"
   ]
  },
  {
   "cell_type": "code",
   "execution_count": 8,
   "metadata": {},
   "outputs": [
    {
     "name": "stdout",
     "output_type": "stream",
     "text": [
      "[ 0  1  2  3  4  5  6  7  8  9 10 11 12 13 14]\n"
     ]
    }
   ],
   "source": [
    "#24 Print the full numpy array a without truncating.\n",
    "import sys\n",
    "np.set_printoptions(threshold=sys.maxsize)\n",
    "print(arr)"
   ]
  },
  {
   "cell_type": "code",
   "execution_count": 14,
   "metadata": {},
   "outputs": [
    {
     "name": "stdout",
     "output_type": "stream",
     "text": [
      "[[b'5.1' b'3.5' b'1.4' b'0.2' b'Iris-setosa']\n",
      " [b'4.9' b'3.0' b'1.4' b'0.2' b'Iris-setosa']\n",
      " [b'4.7' b'3.2' b'1.3' b'0.2' b'Iris-setosa']\n",
      " [b'4.6' b'3.1' b'1.5' b'0.2' b'Iris-setosa']]\n"
     ]
    }
   ],
   "source": [
    "#25 Import the iris dataset keeping the text intact.\n",
    "url = 'https://archive.ics.uci.edu/ml/machine-learning-databases/iris/iris.data'\n",
    "iris = np.genfromtxt(url, delimiter=',', dtype='object')\n",
    "\n",
    "url_local = 'C:/Users/Admin/Desktop/Learning/Data Science/DataSets'\n",
    "# iris_local = np.fromfile(url_local,sep=',')\n",
    "\n",
    "names = ('sepallength', 'sepalwidth', 'petallength', 'petalwidth', 'species')\n",
    "print(iris[:4])\n",
    "# print(iris_local[:4])"
   ]
  },
  {
   "cell_type": "code",
   "execution_count": 6,
   "metadata": {},
   "outputs": [
    {
     "name": "stdout",
     "output_type": "stream",
     "text": [
      "[b'Iris-setosa', b'Iris-setosa', b'Iris-setosa', b'Iris-setosa', b'Iris-setosa']\n"
     ]
    }
   ],
   "source": [
    "#26 Extract the text column species from the 1D iris imported in previous question.\n",
    "url = 'https://archive.ics.uci.edu/ml/machine-learning-databases/iris/iris.data'\n",
    "iris = np.genfromtxt(url, delimiter=',', dtype='object')\n",
    "species = [i[4] for i in iris]\n",
    "print(species[:5])"
   ]
  },
  {
   "cell_type": "code",
   "execution_count": 13,
   "metadata": {},
   "outputs": [
    {
     "name": "stdout",
     "output_type": "stream",
     "text": [
      "(5., 3.6, 1.4, 0.2, 'Iris-setosa')\n",
      "[[5.1, 3.5, 1.4, 0.2], [4.9, 3.0, 1.4, 0.2], [4.7, 3.2, 1.3, 0.2], [4.6, 3.1, 1.5, 0.2]]\n"
     ]
    }
   ],
   "source": [
    "#27 Convert the 1D iris to 2D array iris_2d by omitting the species text field.\n",
    "url = 'https://archive.ics.uci.edu/ml/machine-learning-databases/iris/iris.data'\n",
    "iris_1d = np.genfromtxt(url, delimiter=',', dtype=None,encoding=None)\n",
    "print(iris_1d[4])\n",
    "iris_2d = [list(i)[:4] for i in iris_1d]\n",
    "'''\n",
    "Alternative way:\n",
    "iris_2d = np.genfromtxt(url, delimiter=',', dtype='float', usecols=[0,1,2,3])\n",
    "'''\n",
    "print(iris_2d[:4])\n",
    "\n",
    "## Need to check this. *"
   ]
  },
  {
   "cell_type": "code",
   "execution_count": 15,
   "metadata": {},
   "outputs": [
    {
     "name": "stdout",
     "output_type": "stream",
     "text": [
      "5.843333333333334\n",
      "5.8\n",
      "0.8253012917851409\n"
     ]
    }
   ],
   "source": [
    "#28  Find the mean, median, standard deviation of iris's sepallength (1st column)\n",
    "url = 'https://archive.ics.uci.edu/ml/machine-learning-databases/iris/iris.data'\n",
    "sepallength = np.genfromtxt(url, delimiter=',', dtype=None,encoding=None,usecols=[0])\n",
    "\n",
    "mean=np.mean(sepallength)\n",
    "median=np.median(sepallength)\n",
    "standard_deviation=np.std(sepallength)\n",
    "\n",
    "print(mean)\n",
    "print(median)\n",
    "print(standard_deviation)"
   ]
  },
  {
   "cell_type": "code",
   "execution_count": null,
   "metadata": {},
   "outputs": [],
   "source": []
  }
 ],
 "metadata": {
  "kernelspec": {
   "display_name": "Python 3",
   "language": "python",
   "name": "python3"
  },
  "language_info": {
   "codemirror_mode": {
    "name": "ipython",
    "version": 3
   },
   "file_extension": ".py",
   "mimetype": "text/x-python",
   "name": "python",
   "nbconvert_exporter": "python",
   "pygments_lexer": "ipython3",
   "version": "3.8.0"
  }
 },
 "nbformat": 4,
 "nbformat_minor": 4
}
