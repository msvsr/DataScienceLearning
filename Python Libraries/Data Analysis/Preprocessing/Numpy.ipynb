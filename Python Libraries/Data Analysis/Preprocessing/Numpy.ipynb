{
 "cells": [
  {
   "cell_type": "markdown",
   "metadata": {},
   "source": [
    "<a href=\"https://numpy.org/\">Numpy Documenation</a><br>\n",
    "<a href=\"https://numpy.org/devdocs/user/quickstart.html\">Tutorial</a>"
   ]
  },
  {
   "cell_type": "code",
   "execution_count": 2,
   "metadata": {},
   "outputs": [],
   "source": [
    "import numpy as np"
   ]
  },
  {
   "cell_type": "markdown",
   "metadata": {},
   "source": [
    ">Key Points\n",
    "<ol>\n",
    "<li>NumPy’s main object is the homogeneous multidimensional array.</li>\n",
    "<li>In NumPy dimensions are called <b>axes</b>.</li>\n",
    "<li>NumPy’s array class is called <b>ndarray</b>.</li>\n",
    "</ol>"
   ]
  },
  {
   "cell_type": "markdown",
   "metadata": {},
   "source": [
    ">Important Attributes of ndarray object are:\n",
    "1. ndim\n",
    "2. shape\n",
    "3. size\n",
    "4. shape\n",
    "5. itemsize\n",
    "6. data"
   ]
  },
  {
   "cell_type": "markdown",
   "metadata": {},
   "source": [
    "#### Array Creation functions\n",
    "\n",
    "1. <a href=\"https://docs.scipy.org/doc/numpy/reference/generated/numpy.array.html#numpy.array\">array</a>\n",
    "2. <a href=\"https://docs.scipy.org/doc/numpy/reference/generated/numpy.empty_like.html#numpy.empty_like\">empty_like</a>\n",
    "3. <a href=\"https://docs.scipy.org/doc/numpy/reference/generated/numpy.ones_like.html#numpy.ones_like\">ones_like</a>\n",
    "4. <a href=\"https://docs.scipy.org/doc/numpy/reference/generated/numpy.zeros_like.html#numpy.zeros_like\">zeroes_like</a>\n",
    "5. <a href=\"https://docs.scipy.org/doc/numpy/reference/generated/numpy.full_like.html#numpy.full_like\">full_like</a>\n",
    "6. <a href=\"https://docs.scipy.org/doc/numpy/reference/generated/numpy.empty.html#numpy.empty\">empty</a>\n",
    "7. <a href=\"https://docs.scipy.org/doc/numpy/reference/generated/numpy.ones.html#numpy.ones\">ones</a>\n",
    "8. <a href=\"https://docs.scipy.org/doc/numpy/reference/generated/numpy.zeros.html#numpy.zeros\">zeros</a>\n",
    "9. <a href=\"https://docs.scipy.org/doc/numpy/reference/generated/numpy.full.html#numpy.full\">full</a>\n",
    "---\n",
    "10. <a href=\"https://jakevdp.github.io/PythonDataScienceHandbook/02.09-structured-data-numpy.html\">Structured Data: NumPy's Structured Arrays</a>\n",
    "\n",
    "---\n",
    "\n",
    "11. <a href=\"https://numpy.org/devdocs/reference/generated/numpy.arange.html#numpy.arange\">arange</a>\n",
    "12. <a href=\"https://numpy.org/devdocs/reference/generated/numpy.linspace.html#numpy.linspace\">linspace</a>\n",
    "\n",
    "---\n",
    "\n",
    "13. <a href=\"https://docs.scipy.org/doc/numpy-1.14.0/reference/routines.random.html\">*Random</a>\n",
    "\n",
    "---\n",
    "14. <a href=\"https://numpy.org/devdocs/reference/generated/numpy.fromfunction.html#numpy.fromfunction\">fromfunction</a>\n",
    "15. <a href=\"https://numpy.org/devdocs/reference/generated/numpy.fromfile.html#numpy.fromfile\">fromfile</a>\n",
    "\n",
    "---\n",
    "16. <a href=\"https://docs.scipy.org/doc/numpy/reference/generated/numpy.ndarray.reshape.html#numpy.ndarray.reshape\">ndarray.reshape</a>\n",
    "17. <a href=\"https://docs.scipy.org/doc/numpy/reference/generated/numpy.reshape.html\">numpy.reshape</a>\n",
    "---\n",
    "18. <a href=\"https://docs.scipy.org/doc/numpy/reference/generated/numpy.set_printoptions.html#numpy-set-printoptions\">set_printoptions</a>\n",
    "---\n",
    "19. <a href=\"https://numpy.org/devdocs/user/quickstart.html#basic-operations\">Basic Operations</a>\n",
    "---\n",
    "20. <a href=\"https://numpy.org/devdocs/user/quickstart.html#indexing-slicing-and-iterating\">Indexing, slicing and Iterating</a>\n",
    "21. <a href=\"https://numpy.org/devdocs/user/quickstart.html#shape-manipulation\">Shape manipulation:ndarray.shape, reshape, resize, ravel</a>\n",
    "---\n",
    "22. <a href=\"https://numpy.org/devdocs/user/quickstart.html#functions-and-methods-overview\">Functions methods & Overview</a>\n",
    "---\n",
    "23. <a href=\"https://docs.scipy.org/doc/numpy-1.13.0/reference/routines.set.html\">Set Operations on numpy arrays</a>\n",
    "---\n",
    "24. <a href=\"https://docs.scipy.org/doc/numpy/reference/generated/numpy.where.html#numpy-where\">where*</a>\n",
    "25. <a href=\"https://note.nkmk.me/en/python-numpy-where/\">where *</a>\n",
    "---\n",
    "26. <a href=\"https://docs.scipy.org/doc/numpy/reference/generated/numpy.corrcoef.html#numpy-corrcoef\">correlation coefficient</a>\n",
    "---\n",
    "27. <a href=\"https://docs.scipy.org/doc/numpy/reference/generated/numpy.digitize.html#numpy-digitize\">digitize</a>\n",
    "28. <a href=\"https://stackoverflow.com/questions/29241056/how-does-numpy-newaxis-work-and-when-to-use-it\">np.newaxis</a>"
   ]
  },
  {
   "cell_type": "code",
   "execution_count": 121,
   "metadata": {},
   "outputs": [
    {
     "name": "stdout",
     "output_type": "stream",
     "text": [
      "[1 2 3 4 5 6]\n",
      "[1 2 3 4 5 6]\n",
      "[1. 2. 3. 4. 5. 6.]\n",
      "[[ 1  2  3  4  5]\n",
      " [ 6  7  8  9 10]]\n",
      "[[[1 2 3]\n",
      "  [4 5 6]]]\n",
      "6\n",
      "(1, 2, 3)\n",
      "[[1. 1. 1.]\n",
      " [1. 1. 1.]\n",
      " [1. 1. 1.]]\n",
      "[[4607182418800017408 4607182418800017408 4607182418800017408]\n",
      " [4607182418800017408 4607182418800017408 4607182418800017408]\n",
      " [4607182418800017408 4607182418800017408 4607182418800017408]]\n",
      "[[0 0 0]\n",
      " [0 0 0]\n",
      " [0 0 0]]\n",
      "[[0. 0. 0.]\n",
      " [0. 0. 0.]\n",
      " [0. 0. 0.]]\n",
      "[[1. 1. 1.]\n",
      " [1. 1. 1.]\n",
      " [1. 1. 1.]]\n",
      "[[1 1 1]\n",
      " [1 1 1]\n",
      " [1 1 1]]\n",
      "[0.1 0.1 0.1 0.1 0.1 0.1]\n",
      "[3 3 3 3 3 3]\n",
      "[[0.1 0.1]\n",
      " [0.1 0.1]\n",
      " [0.1 0.1]]\n",
      "[[3 3]\n",
      " [3 3]\n",
      " [3 3]]\n",
      "[0 1 2 3 4 5 6 7 8 9]\n",
      "[0.         0.07894737 0.15789474 0.23684211 0.31578947 0.39473684\n",
      " 0.47368421 0.55263158 0.63157895 0.71052632 0.78947368 0.86842105\n",
      " 0.94736842 1.02631579 1.10526316 1.18421053 1.26315789 1.34210526\n",
      " 1.42105263 1.5       ]\n",
      "[[[0.51697252 0.0348674  0.51414527 0.12019085]\n",
      "  [0.27529236 0.68874408 0.64414535 0.02551836]\n",
      "  [0.6507366  0.32860161 0.04696607 0.456844  ]]\n",
      "\n",
      " [[0.75838535 0.93811248 0.48806849 0.54801559]\n",
      "  [0.72341072 0.17030737 0.62382138 0.52116666]\n",
      "  [0.88379827 0.61972643 0.59254975 0.45699552]]]\n",
      "[-1.26910808  0.47217918  0.34208914 -0.53352153  1.10997006  0.18941493\n",
      "  2.25460595  0.95458329  0.97777187 -0.68327414]\n",
      "[[[-0.39762273 -0.42055409 -0.82800823]\n",
      "  [-0.54804241  0.19579055  0.14498071]]]\n",
      "[6.95891252 4.65824268 6.0213757  5.12349355 4.41210858 4.47238596\n",
      " 5.21592669 4.4898026  3.0623674  5.22722363]\n",
      "[[0 1 2 3 4]\n",
      " [5 6 7 8 9]]\n",
      "[[0 1]\n",
      " [2 3]\n",
      " [4 5]\n",
      " [6 7]\n",
      " [8 9]]\n"
     ]
    }
   ],
   "source": [
    "#array\n",
    "nparray_from_pylist = np.array([1,2,3,4,5,6])\n",
    "nparray_from_pytuple = np.array((1,2,3,4,5,6))\n",
    "print(nparray_from_pylist)\n",
    "print(nparray_from_pytuple)\n",
    "\n",
    "nparray_dtype = np.array([1,2,3,4,5,6],dtype=np.float64)\n",
    "print(nparray_dtype)\n",
    "\n",
    "nparray_multidimensional = np.array([(1,2,3,4,5),(6,7,8,9,10)])\n",
    "print(nparray_multidimensional)\n",
    "\n",
    "nparray_ndim = np.array([[1,2,3],[4,5,6]],ndmin=3)\n",
    "print(nparray_ndim)\n",
    "print(nparray_ndim.size)\n",
    "print(nparray_ndim.shape)\n",
    "\n",
    "nparray_empty = np.empty((3,3))\n",
    "print(nparray_empty)\n",
    "nparray_empty_like = np.empty_like(nparray_empty,dtype=np.int64)\n",
    "print(nparray_empty_like)\n",
    "\n",
    "nparray_zeros = np.zeros((3,3),dtype=np.int64)\n",
    "print(nparray_zeros)\n",
    "nparray_zeros_like = np.zeros_like(nparray_zeros,dtype=np.float64)\n",
    "print(nparray_zeros_like)\n",
    "\n",
    "nparray_ones = np.ones((3,3),dtype=np.float64)\n",
    "print(nparray_ones)\n",
    "nparray_ones_like = np.ones_like(nparray_ones, dtype=np.int16)\n",
    "print(nparray_ones_like)\n",
    "\n",
    "nparray_full = np.full(6,0.1)\n",
    "print(nparray_full)\n",
    "nparray_full_like = np.full_like(nparray_full,3.8,dtype=np.int64)\n",
    "print(nparray_full_like)\n",
    "nparray_full = np.full((3,2),0.1)\n",
    "print(nparray_full)\n",
    "nparray_full_like = np.full_like(nparray_full,3.8,dtype=np.int64)\n",
    "print(nparray_full_like)\n",
    "\n",
    "nparray_arange = np.arange(10)\n",
    "print(nparray_arange)\n",
    "\n",
    "nparray_linspace = np.linspace(0.0, 1.5,20)\n",
    "print(nparray_linspace)\n",
    "\n",
    "nparray_rand = np.random.rand(2,3,4)\n",
    "print(nparray_rand)\n",
    "\n",
    "#Mean-0 variance-1\n",
    "nparray_randn = np.random.randn(10)\n",
    "print(nparray_randn)\n",
    "nparray_randn = np.random.randn(1,2,3)\n",
    "print(nparray_randn)\n",
    "#For random samples from N(\\mu, \\sigma^2), use:\n",
    "#sigma * np.random.randn(...) + mu\n",
    "#Mean-5 variance-1\n",
    "nparray_randn =1*np.random.randn(10)+5\n",
    "print(nparray_randn)\n",
    "\n",
    "nparray_ndarray_reshape = np.arange(10).reshape(2,5)\n",
    "print(nparray_ndarray_reshape)\n",
    "\n",
    "nparray_numpy_reshape = np.reshape(nparray_ndarray_reshape,(5,2))\n",
    "print(nparray_numpy_reshape)\n"
   ]
  },
  {
   "cell_type": "markdown",
   "metadata": {},
   "source": [
    "##### Numpy Exercises\n",
    "<a href=\"https://www.machinelearningplus.com/python/101-numpy-exercises-python/\"> Q & A Practice</a>"
   ]
  },
  {
   "cell_type": "code",
   "execution_count": 2,
   "metadata": {},
   "outputs": [
    {
     "name": "stdout",
     "output_type": "stream",
     "text": [
      "1.18.1\n"
     ]
    }
   ],
   "source": [
    "#1 Import numpy as np and print the version number\n",
    "import numpy as np\n",
    "print(np.__version__)"
   ]
  },
  {
   "cell_type": "code",
   "execution_count": 123,
   "metadata": {},
   "outputs": [
    {
     "name": "stdout",
     "output_type": "stream",
     "text": [
      "[0 1 2 3 4 5 6 7 8 9]\n"
     ]
    }
   ],
   "source": [
    "#2 Create a 1D array of numbers from 0 to 9\n",
    "arr = np.arange(10)\n",
    "print(arr)"
   ]
  },
  {
   "cell_type": "code",
   "execution_count": 124,
   "metadata": {},
   "outputs": [
    {
     "name": "stdout",
     "output_type": "stream",
     "text": [
      "[[ True  True  True]\n",
      " [ True  True  True]\n",
      " [ True  True  True]]\n",
      "[[ True  True  True]\n",
      " [ True  True  True]\n",
      " [ True  True  True]]\n",
      "[[False False False]\n",
      " [False False False]\n",
      " [False False False]]\n"
     ]
    }
   ],
   "source": [
    "#3 Create a 3×3 numpy array of all True’s\n",
    "bool_arr = np.full((3,3),True,dtype=bool)\n",
    "print(bool_arr)\n",
    "\n",
    "#Alternate Method\n",
    "bool_arr = np.ones((3,3),dtype=bool)\n",
    "print(bool_arr)\n",
    "#With False\n",
    "bool_arr_false = np.zeros((3,3),dtype=bool)\n",
    "print(bool_arr_false)"
   ]
  },
  {
   "cell_type": "code",
   "execution_count": 125,
   "metadata": {},
   "outputs": [
    {
     "name": "stdout",
     "output_type": "stream",
     "text": [
      "[1 3 5 7 9]\n"
     ]
    }
   ],
   "source": [
    "#4  Extract all odd numbers from arr\n",
    "print(arr[arr%2==1])"
   ]
  },
  {
   "cell_type": "code",
   "execution_count": 126,
   "metadata": {},
   "outputs": [
    {
     "name": "stdout",
     "output_type": "stream",
     "text": [
      "[ 0 -1  2 -1  4 -1  6 -1  8 -1]\n"
     ]
    }
   ],
   "source": [
    "#5  Replace all odd numbers in arr with -1\n",
    "arr[arr%2==1]=-1\n",
    "print(arr)"
   ]
  },
  {
   "cell_type": "code",
   "execution_count": 127,
   "metadata": {},
   "outputs": [
    {
     "name": "stdout",
     "output_type": "stream",
     "text": [
      "[ 0 -1  2 -1  4 -1  6 -1  8 -1]\n",
      "[ 0 -1  2 -1  4 -1  6 -1  8 -1]\n"
     ]
    }
   ],
   "source": [
    "#6 Replace all odd numbers in arr with -1 without changing arr\n",
    "#Using where\n",
    "out_arr = np.where(arr%2==1,-1,arr)\n",
    "print(arr)\n",
    "print(out_arr)"
   ]
  },
  {
   "cell_type": "code",
   "execution_count": 128,
   "metadata": {},
   "outputs": [
    {
     "name": "stdout",
     "output_type": "stream",
     "text": [
      "[[ 0 -1  2 -1  4]\n",
      " [-1  6 -1  8 -1]]\n"
     ]
    }
   ],
   "source": [
    "#7 Convert a 1D array to a 2D array with 2 rows\n",
    "reshaped_arr = arr.reshape(2,5) \n",
    "'''Alternative way arr.reshape(2,-1)'''\n",
    "print(reshaped_arr)"
   ]
  },
  {
   "cell_type": "code",
   "execution_count": 129,
   "metadata": {},
   "outputs": [],
   "source": [
    "a=np.arange(10).reshape(2,-1)\n",
    "b=np.repeat(1,10).reshape(2,-1)"
   ]
  },
  {
   "cell_type": "code",
   "execution_count": 130,
   "metadata": {},
   "outputs": [
    {
     "name": "stdout",
     "output_type": "stream",
     "text": [
      "[[0 1 2 3 4]\n",
      " [5 6 7 8 9]\n",
      " [1 1 1 1 1]\n",
      " [1 1 1 1 1]]\n"
     ]
    }
   ],
   "source": [
    "#8 Stack arrays a and b vertically\n",
    "vstack_ab = np.vstack((a,b))\n",
    "'''\n",
    "Alternative ways:\n",
    "np.concatenate([a, b], axis=0)\n",
    "np.r_[a, b]\n",
    "'''\n",
    "print(vstack_ab)\n"
   ]
  },
  {
   "cell_type": "code",
   "execution_count": 131,
   "metadata": {},
   "outputs": [
    {
     "name": "stdout",
     "output_type": "stream",
     "text": [
      "[[0 1 2 3 4 1 1 1 1 1]\n",
      " [5 6 7 8 9 1 1 1 1 1]]\n"
     ]
    }
   ],
   "source": [
    "#9 Stack the arrays a and b horizontally.\n",
    "hstack_ab = np.hstack([a,b])\n",
    "'''\n",
    "Alternative ways\n",
    "print(np.concatenate([a, b], axis=1))\n",
    "print(np.c_[a, b])\n",
    "'''\n",
    "print(hstack_ab)"
   ]
  },
  {
   "cell_type": "code",
   "execution_count": 132,
   "metadata": {},
   "outputs": [
    {
     "name": "stdout",
     "output_type": "stream",
     "text": [
      "[1 1 1 2 2 2 3 3 3 1 2 3 1 2 3 1 2 3]\n"
     ]
    }
   ],
   "source": [
    "#10 Create the following pattern without hardcoding. Use only numpy functions and the below input array a\n",
    "'''\n",
    "a = np.array([1,2,3])\n",
    "array([1, 1, 1, 2, 2, 2, 3, 3, 3, 1, 2, 3, 1, 2, 3, 1, 2, 3])\n",
    "'''\n",
    "a=np.array([1,2,3])\n",
    "pattern1 = np.r_[np.repeat(a,3),np.tile(a,3)]\n",
    "print(pattern1)"
   ]
  },
  {
   "cell_type": "code",
   "execution_count": 133,
   "metadata": {},
   "outputs": [
    {
     "name": "stdout",
     "output_type": "stream",
     "text": [
      "[2 4]\n"
     ]
    }
   ],
   "source": [
    "#11 Get the common items between a and b\n",
    "a1d = np.array([1,2,3,2,3,4,3,4,5,6])\n",
    "b1d = np.array([7,2,10,2,7,4,9,4,9,8])\n",
    "common_ab = np.intersect1d(a1d,b1d)\n",
    "print(common_ab)\n",
    "\n",
    "# a2d = np.array([1,2,3,2,3,4,3,4,5,6]).reshape(2,5)\n",
    "# b2d = np.array([7,2,10,2,7,4,9,4,9,8]).reshape(2,5)\n",
    "# common_ab=np.intersect2d(a2d,b2d)\n",
    "# print(common_ab)\n",
    "\n"
   ]
  },
  {
   "cell_type": "code",
   "execution_count": 134,
   "metadata": {},
   "outputs": [
    {
     "name": "stdout",
     "output_type": "stream",
     "text": [
      "[1 2 3 4]\n"
     ]
    }
   ],
   "source": [
    "#12 From array a remove all items present in array b\n",
    "a1d = np.array([1,2,3,4,5])\n",
    "b1d = np.array([5,6,7,8,9])\n",
    "setdiff_ab = np.setdiff1d(a1d,b1d)\n",
    "print(setdiff_ab)"
   ]
  },
  {
   "cell_type": "code",
   "execution_count": 135,
   "metadata": {},
   "outputs": [
    {
     "name": "stdout",
     "output_type": "stream",
     "text": [
      "(array([1, 3, 5, 7], dtype=int32),)\n"
     ]
    }
   ],
   "source": [
    "#13 Get the positions where elements of a and b match\n",
    "a = np.array([1,2,3,2,3,4,3,4,5,6])\n",
    "b = np.array([7,2,10,2,7,4,9,4,9,8])\n",
    "positions_ab=np.where(a==b)\n",
    "print(positions_ab)"
   ]
  },
  {
   "cell_type": "code",
   "execution_count": 136,
   "metadata": {},
   "outputs": [
    {
     "name": "stdout",
     "output_type": "stream",
     "text": [
      "[ 6  9 10]\n"
     ]
    }
   ],
   "source": [
    "#14 Get all items between 5 and 10 from a.\n",
    "a = np.array([2, 6, 1, 9, 10, 3, 27])\n",
    "between_range_in_array = a[np.where((a>=5) & (a<=10))]\n",
    "print(between_range_in_array)"
   ]
  },
  {
   "cell_type": "code",
   "execution_count": 137,
   "metadata": {},
   "outputs": [
    {
     "name": "stdout",
     "output_type": "stream",
     "text": [
      "[6 7 9 8 9 7 5]\n"
     ]
    }
   ],
   "source": [
    "#15 Convert the function maxx that works on two scalars, to work on two arrays.\n",
    "\n",
    "#Function maxx\n",
    "def maxx(x, y):\n",
    "    \"\"\"Get the maximum of two items\"\"\"\n",
    "    if x >= y:\n",
    "        return x\n",
    "    else:\n",
    "        return y\n",
    "\n",
    "a = np.array([5, 7, 9, 8, 6, 4, 5])\n",
    "b = np.array([6, 3, 4, 8, 9, 7, 1])\n",
    "\n",
    "#Use vectorize\n",
    "pair_max = np.vectorize(maxx, otypes=[int])\n",
    "# pair_max = np.vectorize(maxx, otypes=[float]) #For float\n",
    "max_ab = pair_max(a,b)\n",
    "print(max_ab)"
   ]
  },
  {
   "cell_type": "code",
   "execution_count": 138,
   "metadata": {},
   "outputs": [],
   "source": [
    "arr = np.arange(9).reshape(3,3)"
   ]
  },
  {
   "cell_type": "code",
   "execution_count": 139,
   "metadata": {},
   "outputs": [
    {
     "name": "stdout",
     "output_type": "stream",
     "text": [
      "[[1 0 2]\n",
      " [4 3 5]\n",
      " [7 6 8]]\n"
     ]
    }
   ],
   "source": [
    "#16 Swap columns 1 and 2 in the array arr.\n",
    "arr_col_swap = arr[:,[1,0,2]]\n",
    "print(arr_col_swap)"
   ]
  },
  {
   "cell_type": "code",
   "execution_count": 140,
   "metadata": {},
   "outputs": [
    {
     "name": "stdout",
     "output_type": "stream",
     "text": [
      "[[3 4 5]\n",
      " [0 1 2]\n",
      " [6 7 8]]\n"
     ]
    }
   ],
   "source": [
    "#17 Swap rows 1 and 2 in the array arr\n",
    "arr_row_swap = arr[[1,0,2],:]\n",
    "print(arr_row_swap)"
   ]
  },
  {
   "cell_type": "code",
   "execution_count": 141,
   "metadata": {},
   "outputs": [
    {
     "name": "stdout",
     "output_type": "stream",
     "text": [
      "[[6 7 8]\n",
      " [3 4 5]\n",
      " [0 1 2]]\n"
     ]
    }
   ],
   "source": [
    "#18 Reverse the rows of a 2D array arr.\n",
    "arr_row_reverse = arr[::-1,:]\n",
    "print(arr_row_reverse)"
   ]
  },
  {
   "cell_type": "code",
   "execution_count": 142,
   "metadata": {},
   "outputs": [
    {
     "name": "stdout",
     "output_type": "stream",
     "text": [
      "[[2 1 0]\n",
      " [5 4 3]\n",
      " [8 7 6]]\n"
     ]
    }
   ],
   "source": [
    "#19 Reverse the columns of a 2D array arr.\n",
    "arr_col_reverse = arr[:,::-1]\n",
    "print(arr_col_reverse)"
   ]
  },
  {
   "cell_type": "code",
   "execution_count": 143,
   "metadata": {},
   "outputs": [
    {
     "name": "stdout",
     "output_type": "stream",
     "text": [
      "[[8.74644132 5.05533209 6.30029112]\n",
      " [7.82719638 5.83656737 8.62494695]\n",
      " [7.91309762 8.69221266 6.30082794]\n",
      " [6.05515282 8.80131216 6.55562104]\n",
      " [7.77815242 8.52784336 6.59865329]]\n"
     ]
    }
   ],
   "source": [
    "#20 Create a 2D array of shape 5x3 to contain random decimal numbers between 5 and 10.\n",
    "random_2d_float_arr = np.random.randint(5,10,(5,3))+np.random.random((5,3))\n",
    "'''\n",
    "Another way:\n",
    "random_2d_float_arr = np.random.uniform(5,10, size=(5,3))\n",
    "'''\n",
    "print(random_2d_float_arr)"
   ]
  },
  {
   "cell_type": "code",
   "execution_count": 3,
   "metadata": {},
   "outputs": [
    {
     "name": "stdout",
     "output_type": "stream",
     "text": [
      "0.8971484186768155\n"
     ]
    }
   ],
   "source": [
    "#21 Print or show only 3 decimal places of the numpy array rand_arr\n",
    "rand_arr = np.random.uniform()\n",
    "np.set_printoptions(precision=3)\n",
    "print(rand_arr)"
   ]
  },
  {
   "cell_type": "code",
   "execution_count": 5,
   "metadata": {},
   "outputs": [
    {
     "name": "stdout",
     "output_type": "stream",
     "text": [
      "[[0.001 0.    0.   ]\n",
      " [0.001 0.    0.   ]\n",
      " [0.001 0.001 0.   ]]\n"
     ]
    }
   ],
   "source": [
    "#22 Pretty print rand_arr by suppressing the scientific notation (like 1e10)\n",
    "np.random.seed(100)\n",
    "rand_arr = np.random.random([3,3])/1e3\n",
    "np.set_printoptions(suppress=True)\n",
    "print(rand_arr)"
   ]
  },
  {
   "cell_type": "code",
   "execution_count": 6,
   "metadata": {},
   "outputs": [
    {
     "name": "stdout",
     "output_type": "stream",
     "text": [
      "[ 0  1  2 ... 12 13 14]\n"
     ]
    }
   ],
   "source": [
    "#23 Limit the number of items printed in python numpy array a to a maximum of 6 elements.\n",
    "arr=np.arange(15)\n",
    "np.set_printoptions(threshold=6)\n",
    "print(arr)"
   ]
  },
  {
   "cell_type": "code",
   "execution_count": 8,
   "metadata": {},
   "outputs": [
    {
     "name": "stdout",
     "output_type": "stream",
     "text": [
      "[ 0  1  2  3  4  5  6  7  8  9 10 11 12 13 14]\n"
     ]
    }
   ],
   "source": [
    "#24 Print the full numpy array a without truncating.\n",
    "import sys\n",
    "np.set_printoptions(threshold=sys.maxsize)\n",
    "print(arr)"
   ]
  },
  {
   "cell_type": "code",
   "execution_count": 14,
   "metadata": {},
   "outputs": [
    {
     "name": "stdout",
     "output_type": "stream",
     "text": [
      "[[b'5.1' b'3.5' b'1.4' b'0.2' b'Iris-setosa']\n",
      " [b'4.9' b'3.0' b'1.4' b'0.2' b'Iris-setosa']\n",
      " [b'4.7' b'3.2' b'1.3' b'0.2' b'Iris-setosa']\n",
      " [b'4.6' b'3.1' b'1.5' b'0.2' b'Iris-setosa']]\n"
     ]
    }
   ],
   "source": [
    "#25 Import the iris dataset keeping the text intact.\n",
    "url = 'https://archive.ics.uci.edu/ml/machine-learning-databases/iris/iris.data'\n",
    "iris = np.genfromtxt(url, delimiter=',', dtype='object')\n",
    "\n",
    "url_local = 'C:/Users/Admin/Desktop/Learning/Data Science/DataSets'\n",
    "# iris_local = np.fromfile(url_local,sep=',')\n",
    "\n",
    "names = ('sepallength', 'sepalwidth', 'petallength', 'petalwidth', 'species')\n",
    "print(iris[:4])\n",
    "# print(iris_local[:4])"
   ]
  },
  {
   "cell_type": "code",
   "execution_count": 6,
   "metadata": {},
   "outputs": [
    {
     "name": "stdout",
     "output_type": "stream",
     "text": [
      "[b'Iris-setosa', b'Iris-setosa', b'Iris-setosa', b'Iris-setosa', b'Iris-setosa']\n"
     ]
    }
   ],
   "source": [
    "#26 Extract the text column species from the 1D iris imported in previous question.\n",
    "url = 'https://archive.ics.uci.edu/ml/machine-learning-databases/iris/iris.data'\n",
    "iris = np.genfromtxt(url, delimiter=',', dtype='object')\n",
    "species = [i[4] for i in iris]\n",
    "print(species[:5])"
   ]
  },
  {
   "cell_type": "code",
   "execution_count": 21,
   "metadata": {},
   "outputs": [
    {
     "name": "stdout",
     "output_type": "stream",
     "text": [
      "(5., 3.6, 1.4, 0.2, 'Iris-setosa')\n",
      "[[5.1, 3.5, 1.4, 0.2], [4.9, 3.0, 1.4, 0.2], [4.7, 3.2, 1.3, 0.2], [4.6, 3.1, 1.5, 0.2]]\n"
     ]
    }
   ],
   "source": [
    "#27 Convert the 1D iris to 2D array iris_2d by omitting the species text field.\n",
    "url = 'https://archive.ics.uci.edu/ml/machine-learning-databases/iris/iris.data'\n",
    "iris_1d = np.genfromtxt(url, delimiter=',', dtype=None,encoding=None)\n",
    "print(iris_1d[4])\n",
    "iris_2d = [list(i)[:4] for i in iris_1d]\n",
    "'''\n",
    "Alternative way:\n",
    "iris_2d = np.genfromtxt(url, delimiter=',', dtype='float', usecols=[0,1,2,3])\n",
    "'''\n",
    "print(iris_2d[:4])\n",
    "\n",
    "## Need to check this. "
   ]
  },
  {
   "cell_type": "code",
   "execution_count": 11,
   "metadata": {},
   "outputs": [],
   "source": [
    "url = 'https://archive.ics.uci.edu/ml/machine-learning-databases/iris/iris.data'\n",
    "sepallength = np.genfromtxt(url, delimiter=',', dtype=None,encoding=None,usecols=[0])"
   ]
  },
  {
   "cell_type": "code",
   "execution_count": 25,
   "metadata": {},
   "outputs": [
    {
     "name": "stdout",
     "output_type": "stream",
     "text": [
      "5.843333333333334\n",
      "5.8\n",
      "0.8253012917851409\n"
     ]
    }
   ],
   "source": [
    "#28  Find the mean, median, standard deviation of iris's sepallength (1st column)\n",
    "\n",
    "mean=np.mean(sepallength)\n",
    "median=np.median(sepallength)\n",
    "standard_deviation=np.std(sepallength)\n",
    "\n",
    "print(mean)\n",
    "print(median)\n",
    "print(standard_deviation)"
   ]
  },
  {
   "cell_type": "code",
   "execution_count": 26,
   "metadata": {},
   "outputs": [
    {
     "name": "stdout",
     "output_type": "stream",
     "text": [
      "[0.22222222 0.16666667 0.11111111 0.08333333 0.19444444 0.30555556\n",
      " 0.08333333 0.19444444 0.02777778 0.16666667 0.30555556 0.13888889\n",
      " 0.13888889 0.         0.41666667 0.38888889 0.30555556 0.22222222\n",
      " 0.38888889 0.22222222 0.30555556 0.22222222 0.08333333 0.22222222\n",
      " 0.13888889 0.19444444 0.19444444 0.25       0.25       0.11111111\n",
      " 0.13888889 0.30555556 0.25       0.33333333 0.16666667 0.19444444\n",
      " 0.33333333 0.16666667 0.02777778 0.22222222 0.19444444 0.05555556\n",
      " 0.02777778 0.19444444 0.22222222 0.13888889 0.22222222 0.08333333\n",
      " 0.27777778 0.19444444 0.75       0.58333333 0.72222222 0.33333333\n",
      " 0.61111111 0.38888889 0.55555556 0.16666667 0.63888889 0.25\n",
      " 0.19444444 0.44444444 0.47222222 0.5        0.36111111 0.66666667\n",
      " 0.36111111 0.41666667 0.52777778 0.36111111 0.44444444 0.5\n",
      " 0.55555556 0.5        0.58333333 0.63888889 0.69444444 0.66666667\n",
      " 0.47222222 0.38888889 0.33333333 0.33333333 0.41666667 0.47222222\n",
      " 0.30555556 0.47222222 0.66666667 0.55555556 0.36111111 0.33333333\n",
      " 0.33333333 0.5        0.41666667 0.19444444 0.36111111 0.38888889\n",
      " 0.38888889 0.52777778 0.22222222 0.38888889 0.55555556 0.41666667\n",
      " 0.77777778 0.55555556 0.61111111 0.91666667 0.16666667 0.83333333\n",
      " 0.66666667 0.80555556 0.61111111 0.58333333 0.69444444 0.38888889\n",
      " 0.41666667 0.58333333 0.61111111 0.94444444 0.94444444 0.47222222\n",
      " 0.72222222 0.36111111 0.94444444 0.55555556 0.66666667 0.80555556\n",
      " 0.52777778 0.5        0.58333333 0.80555556 0.86111111 1.\n",
      " 0.58333333 0.55555556 0.5        0.94444444 0.55555556 0.58333333\n",
      " 0.47222222 0.72222222 0.66666667 0.72222222 0.41666667 0.69444444\n",
      " 0.66666667 0.66666667 0.55555556 0.61111111 0.52777778 0.44444444]\n"
     ]
    }
   ],
   "source": [
    "#29 Create a normalized form of iris's sepallength whose values range exactly between 0 and 1 so that the minimum has value 0 and maximum has value 1.\n",
    "\n",
    "sl_min,sl_max = sepallength.min(),sepallength.max() # diff=sepallength.ptp() #peak to peak\n",
    "normalized_sepallength = (sepallength-sl_min)/(sl_max-sl_min)\n",
    "#Find is there any other way\n",
    "print(normalized_sepallength)"
   ]
  },
  {
   "cell_type": "code",
   "execution_count": 23,
   "metadata": {},
   "outputs": [
    {
     "data": {
      "text/plain": [
       "'\\nNeed to understand.\\n'"
      ]
     },
     "execution_count": 23,
     "metadata": {},
     "output_type": "execute_result"
    }
   ],
   "source": [
    "#30 Compute the softmax score of sepallength.*\n",
    "'''\n",
    "Need to understand.\n",
    "https://stackoverflow.com/questions/34968722/how-to-implement-the-softmax-function-in-python\n",
    "'''"
   ]
  },
  {
   "cell_type": "code",
   "execution_count": 27,
   "metadata": {},
   "outputs": [
    {
     "name": "stdout",
     "output_type": "stream",
     "text": [
      "[4.6   7.255]\n"
     ]
    }
   ],
   "source": [
    "#31 Find the 5th and 95th percentile of iris's sepallength\n",
    "\n",
    "percentiles = np.percentile(sepallength,[5,95])\n",
    "print(percentiles)"
   ]
  },
  {
   "cell_type": "code",
   "execution_count": 10,
   "metadata": {},
   "outputs": [
    {
     "name": "stdout",
     "output_type": "stream",
     "text": [
      "[[b'5.1' b'3.5' b'1.4' b'0.2' b'Iris-setosa']\n",
      " [b'4.9' b'3.0' b'1.4' b'0.2' b'Iris-setosa']\n",
      " [b'4.7' b'3.2' b'1.3' b'0.2' b'Iris-setosa']\n",
      " [b'4.6' b'3.1' b'1.5' b'0.2' b'Iris-setosa']\n",
      " [b'5.0' b'3.6' b'1.4' b'0.2' b'Iris-setosa']\n",
      " [b'5.4' b'3.9' b'1.7' b'0.4' b'Iris-setosa']\n",
      " [b'4.6' b'3.4' b'1.4' b'0.3' nan]\n",
      " [b'5.0' b'3.4' b'1.5' b'0.2' b'Iris-setosa']\n",
      " [b'4.4' b'2.9' b'1.4' b'0.2' b'Iris-setosa']\n",
      " [b'4.9' b'3.1' b'1.5' b'0.1' b'Iris-setosa']]\n"
     ]
    }
   ],
   "source": [
    "#32 Insert np.nan values at 20 random positions in iris_2d dataset\n",
    "url = 'https://archive.ics.uci.edu/ml/machine-learning-databases/iris/iris.data'\n",
    "iris_2d = np.genfromtxt(url, delimiter=',', dtype='object')\n",
    "i,j=np.where(iris_2d)\n",
    "iris_2d[np.random.choice((i),20),np.random.choice((j),20)]=np.nan\n",
    "'''\n",
    "Alternative method:\n",
    "np.random.seed(100)\n",
    "iris_2d[np.random.randint(150, size=20), np.random.randint(4, size=20)] = np.nan\n",
    "'''\n",
    "print(iris_2d[:10])"
   ]
  },
  {
   "cell_type": "code",
   "execution_count": 54,
   "metadata": {},
   "outputs": [
    {
     "name": "stdout",
     "output_type": "stream",
     "text": [
      "4\n",
      "(array([14, 34, 79, 87], dtype=int32),)\n"
     ]
    }
   ],
   "source": [
    "#33 Find the number and position of missing values in iris_2d's sepallength (1st column)\n",
    "url = 'https://archive.ics.uci.edu/ml/machine-learning-databases/iris/iris.data'\n",
    "iris_2d = np.genfromtxt(url, delimiter=',', dtype='float', usecols=[0,1,2,3])\n",
    "np.random.seed(100)\n",
    "iris_2d[np.random.randint(150, size=20), np.random.randint(4, size=20)] = np.nan\n",
    "\n",
    "missing_positions = np.where(np.isnan(iris_2d[:,0]))\n",
    "print(len(missing_positions[0]))\n",
    "print(missing_positions)"
   ]
  },
  {
   "cell_type": "code",
   "execution_count": 55,
   "metadata": {},
   "outputs": [
    {
     "name": "stdout",
     "output_type": "stream",
     "text": [
      "[[4.8 3.4 1.6 0.2]\n",
      " [4.8 3.4 1.9 0.2]\n",
      " [4.7 3.2 1.6 0.2]\n",
      " [4.8 3.1 1.6 0.2]\n",
      " [4.9 2.4 3.3 1. ]\n",
      " [4.9 2.5 4.5 1.7]]\n"
     ]
    }
   ],
   "source": [
    "#34 Filter the rows of iris_2d that has petallength (3rd column) > 1.5 and sepallength (1st column) < 5.0\n",
    "url = 'https://archive.ics.uci.edu/ml/machine-learning-databases/iris/iris.data'\n",
    "iris_2d = np.genfromtxt(url, delimiter=',', dtype='float',usecols=[0,1,2,3])\n",
    "\n",
    "filtered_iris = iris_2d[np.where((iris_2d[:,2]>1.5)&(iris_2d[:,0]<5.0))]\n",
    "print(filtered_iris)"
   ]
  },
  {
   "cell_type": "code",
   "execution_count": 61,
   "metadata": {},
   "outputs": [
    {
     "name": "stdout",
     "output_type": "stream",
     "text": [
      "[[5.1 3.5 1.4 0.2]\n",
      " [4.9 3.  1.4 0.2]\n",
      " [4.7 3.2 1.3 0.2]\n",
      " [4.6 3.1 1.5 0.2]\n",
      " [5.  3.6 1.4 0.2]]\n"
     ]
    }
   ],
   "source": [
    "#35 Select the rows of iris_2d that does not have any nan value.\n",
    "perfect_iris_2d_bools =iris_2d[list(set(np.where(~np.isnan(iris_2d[:,:]))[0]))]\n",
    "'''\n",
    "Another way\n",
    "any_nan_in_row = np.array([~np.any(np.isnan(row)) for row in iris_2d])\n",
    "print(iris_2d[any_nan_in_row][:5])\n",
    "\n",
    "'''\n",
    "print(perfect_iris_2d_bools[:5])"
   ]
  },
  {
   "cell_type": "code",
   "execution_count": 67,
   "metadata": {},
   "outputs": [
    {
     "name": "stdout",
     "output_type": "stream",
     "text": [
      "0.871754157304871\n"
     ]
    }
   ],
   "source": [
    "#36 Find the correlation between SepalLength(1st column) and PetalLength(3rd column) in iris_2d\n",
    "url = 'https://archive.ics.uci.edu/ml/machine-learning-databases/iris/iris.data'\n",
    "iris_2d = np.genfromtxt(url, delimiter=',', dtype='float',usecols=[0,1,2,3])\n",
    "correlation = np.corrcoef(iris_2d[:,0],iris_2d[:,2])[0,1]\n",
    "print(correlation)"
   ]
  },
  {
   "cell_type": "code",
   "execution_count": 68,
   "metadata": {},
   "outputs": [
    {
     "name": "stdout",
     "output_type": "stream",
     "text": [
      "False\n"
     ]
    }
   ],
   "source": [
    "#37 Find out if iris_2d has any missing values\n",
    "url = 'https://archive.ics.uci.edu/ml/machine-learning-databases/iris/iris.data'\n",
    "iris_2d = np.genfromtxt(url, delimiter=',', dtype='float',usecols=[0,1,2,3])\n",
    "any_missing_values = np.isnan(iris_2d).any()\n",
    "print(any_missing_values)"
   ]
  },
  {
   "cell_type": "code",
   "execution_count": 70,
   "metadata": {},
   "outputs": [
    {
     "name": "stdout",
     "output_type": "stream",
     "text": [
      "[[5.1 3.5 1.4 0.2]\n",
      " [0.  3.  1.4 0.2]\n",
      " [4.7 3.2 1.3 0.2]\n",
      " [4.6 3.1 1.5 0.2]\n",
      " [5.  3.6 1.4 0.2]\n",
      " [5.4 3.9 1.7 0.4]\n",
      " [4.6 3.4 1.4 0.3]\n",
      " [5.  0.  1.5 0.2]\n",
      " [4.4 2.9 1.4 0.2]\n",
      " [4.9 3.1 1.5 0.1]]\n"
     ]
    }
   ],
   "source": [
    "#38 Replace all ccurrences of nan with 0 in numpy array\n",
    "url = 'https://archive.ics.uci.edu/ml/machine-learning-databases/iris/iris.data'\n",
    "iris_2d = np.genfromtxt(url, delimiter=',', dtype='float', usecols=[0,1,2,3])\n",
    "np.random.seed(200)\n",
    "iris_2d[np.random.randint(150, size=20), np.random.randint(4, size=20)] = np.nan\n",
    "iris_2d[np.isnan(iris_2d)]=0\n",
    "print(iris_2d[:10,:])"
   ]
  },
  {
   "cell_type": "code",
   "execution_count": 79,
   "metadata": {},
   "outputs": [
    {
     "name": "stdout",
     "output_type": "stream",
     "text": [
      "(array([b'Iris-setosa', b'Iris-versicolor', b'Iris-virginica'],\n",
      "      dtype=object), array([50, 50, 50]))\n"
     ]
    }
   ],
   "source": [
    "#39  Find the unique values and the count of unique values in iris's species\n",
    "url = 'https://archive.ics.uci.edu/ml/machine-learning-databases/iris/iris.data'\n",
    "iris = np.genfromtxt(url, delimiter=',', dtype='object')\n",
    "names = ('sepallength', 'sepalwidth', 'petallength', 'petalwidth', 'species')\n",
    "species = iris[:,4]\n",
    "unique_species = np.unique(species,return_counts=True)\n",
    "print(unique_species)"
   ]
  },
  {
   "cell_type": "code",
   "execution_count": 5,
   "metadata": {},
   "outputs": [
    {
     "name": "stdout",
     "output_type": "stream",
     "text": [
      "['small', 'small', 'small', 'small', 'small', 'small', 'small', 'small', 'small', 'small']\n"
     ]
    }
   ],
   "source": [
    "#40 Bin the petal length (3rd) column of iris_2d to form a text array, such that if petal length is:\n",
    "# Less than 3 --> 'small'\n",
    "# 3-5 --> 'medium'\n",
    "# '>=5 --> 'large'\n",
    "url = 'https://archive.ics.uci.edu/ml/machine-learning-databases/iris/iris.data'\n",
    "petal_length = np.genfromtxt(url, delimiter=',', dtype='float', usecols=[2])\n",
    "petal_length_bin = np.digitize(petal_length,[0,3,5,10])\n",
    "label_map = {1:'small',2:'medium',3:'large',4:np.nan}\n",
    "petal_length_categorized = [label_map[x] for x in petal_length_bin]\n",
    "print(petal_length_categorized[:10])"
   ]
  },
  {
   "cell_type": "code",
   "execution_count": 7,
   "metadata": {},
   "outputs": [
    {
     "name": "stdout",
     "output_type": "stream",
     "text": [
      "[[b'5.1' b'3.5' b'1.4' b'0.2' b'Iris-setosa' 38.13265162927291]\n",
      " [b'4.9' b'3.0' b'1.4' b'0.2' b'Iris-setosa' 35.200498485922445]\n",
      " [b'4.7' b'3.2' b'1.3' b'0.2' b'Iris-setosa' 30.0723720777127]\n",
      " [b'4.6' b'3.1' b'1.5' b'0.2' b'Iris-setosa' 33.238050274980004]\n",
      " [b'5.0' b'3.6' b'1.4' b'0.2' b'Iris-setosa' 36.65191429188092]\n",
      " [b'5.4' b'3.9' b'1.7' b'0.4' b'Iris-setosa' 51.911677007917746]\n",
      " [b'4.6' b'3.4' b'1.4' b'0.3' b'Iris-setosa' 31.022180256648003]\n",
      " [b'5.0' b'3.4' b'1.5' b'0.2' b'Iris-setosa' 39.269908169872416]\n",
      " [b'4.4' b'2.9' b'1.4' b'0.2' b'Iris-setosa' 28.38324242763259]\n",
      " [b'4.9' b'3.1' b'1.5' b'0.1' b'Iris-setosa' 37.714819806345474]]\n"
     ]
    }
   ],
   "source": [
    "#41 Create a new column for volume in iris_2d, where volume is (pi x petallength x sepal_length^2)/3\n",
    "url = 'https://archive.ics.uci.edu/ml/machine-learning-databases/iris/iris.data'\n",
    "iris_2d = np.genfromtxt(url, delimiter=',', dtype='object')\n",
    "sepallength = iris_2d[:, 0].astype('float')\n",
    "petallength = iris_2d[:, 2].astype('float')\n",
    "volume = (np.pi * petallength * (sepallength**2))/3\n",
    "out = np.hstack([iris_2d, volume[:,np.newaxis]])\n",
    "print(out[:10])"
   ]
  },
  {
   "cell_type": "code",
   "execution_count": 9,
   "metadata": {
    "collapsed": true
   },
   "outputs": [
    {
     "name": "stdout",
     "output_type": "stream",
     "text": [
      "['Iris-versicolor' 'Iris-setosa' 'Iris-setosa' 'Iris-virginica'\n",
      " 'Iris-setosa' 'Iris-setosa' 'Iris-versicolor' 'Iris-virginica'\n",
      " 'Iris-setosa' 'Iris-versicolor' 'Iris-virginica' 'Iris-setosa'\n",
      " 'Iris-setosa' 'Iris-setosa' 'Iris-setosa' 'Iris-virginica'\n",
      " 'Iris-virginica' 'Iris-setosa' 'Iris-virginica' 'Iris-setosa'\n",
      " 'Iris-setosa' 'Iris-virginica' 'Iris-virginica' 'Iris-setosa'\n",
      " 'Iris-setosa' 'Iris-setosa' 'Iris-setosa' 'Iris-setosa' 'Iris-virginica'\n",
      " 'Iris-setosa' 'Iris-versicolor' 'Iris-versicolor' 'Iris-setosa'\n",
      " 'Iris-setosa' 'Iris-setosa' 'Iris-virginica' 'Iris-virginica'\n",
      " 'Iris-setosa' 'Iris-virginica' 'Iris-versicolor' 'Iris-versicolor'\n",
      " 'Iris-versicolor' 'Iris-versicolor' 'Iris-setosa' 'Iris-setosa'\n",
      " 'Iris-versicolor' 'Iris-virginica' 'Iris-setosa' 'Iris-setosa'\n",
      " 'Iris-virginica' 'Iris-virginica' 'Iris-virginica' 'Iris-setosa'\n",
      " 'Iris-versicolor' 'Iris-setosa' 'Iris-setosa' 'Iris-setosa' 'Iris-setosa'\n",
      " 'Iris-setosa' 'Iris-versicolor' 'Iris-setosa' 'Iris-versicolor'\n",
      " 'Iris-versicolor' 'Iris-setosa' 'Iris-virginica' 'Iris-virginica'\n",
      " 'Iris-versicolor' 'Iris-setosa' 'Iris-setosa' 'Iris-setosa' 'Iris-setosa'\n",
      " 'Iris-setosa' 'Iris-setosa' 'Iris-virginica' 'Iris-virginica'\n",
      " 'Iris-versicolor' 'Iris-versicolor' 'Iris-setosa' 'Iris-setosa'\n",
      " 'Iris-setosa' 'Iris-versicolor' 'Iris-setosa' 'Iris-versicolor'\n",
      " 'Iris-virginica' 'Iris-setosa' 'Iris-setosa' 'Iris-virginica'\n",
      " 'Iris-virginica' 'Iris-setosa' 'Iris-versicolor' 'Iris-versicolor'\n",
      " 'Iris-setosa' 'Iris-setosa' 'Iris-setosa' 'Iris-setosa' 'Iris-versicolor'\n",
      " 'Iris-setosa' 'Iris-versicolor' 'Iris-setosa' 'Iris-versicolor'\n",
      " 'Iris-virginica' 'Iris-virginica' 'Iris-versicolor' 'Iris-setosa'\n",
      " 'Iris-versicolor' 'Iris-virginica' 'Iris-versicolor' 'Iris-virginica'\n",
      " 'Iris-virginica' 'Iris-setosa' 'Iris-setosa' 'Iris-setosa'\n",
      " 'Iris-virginica' 'Iris-virginica' 'Iris-setosa' 'Iris-setosa'\n",
      " 'Iris-versicolor' 'Iris-setosa' 'Iris-setosa' 'Iris-versicolor'\n",
      " 'Iris-versicolor' 'Iris-versicolor' 'Iris-versicolor' 'Iris-setosa'\n",
      " 'Iris-setosa' 'Iris-setosa' 'Iris-setosa' 'Iris-setosa' 'Iris-versicolor'\n",
      " 'Iris-setosa' 'Iris-setosa' 'Iris-setosa' 'Iris-virginica' 'Iris-setosa'\n",
      " 'Iris-setosa' 'Iris-setosa' 'Iris-versicolor' 'Iris-virginica'\n",
      " 'Iris-virginica' 'Iris-virginica' 'Iris-setosa' 'Iris-versicolor'\n",
      " 'Iris-versicolor' 'Iris-setosa' 'Iris-virginica' 'Iris-setosa'\n",
      " 'Iris-virginica' 'Iris-versicolor' 'Iris-setosa' 'Iris-setosa']\n",
      "(array(['Iris-setosa', 'Iris-versicolor', 'Iris-virginica'], dtype='<U15'), array([77, 37, 36]))\n"
     ]
    }
   ],
   "source": [
    "#42 Randomly sample iris's species such that setose is twice the number of versicolor and virginica\n",
    "url = 'https://archive.ics.uci.edu/ml/machine-learning-databases/iris/iris.data'\n",
    "iris = np.genfromtxt(url, delimiter=',', dtype='object')\n",
    "species = iris[:, 4]\n",
    "\n",
    "np.random.seed(100)\n",
    "a = np.array(['Iris-setosa', 'Iris-versicolor', 'Iris-virginica'])\n",
    "species_out = np.random.choice(a, 150, p=[0.5, 0.25, 0.25])\n",
    "print(species_out)\n",
    "print(np.unique(species_out, return_counts=True))\n",
    "\n",
    "\n",
    "''' Need to look\n",
    "Another way:\n",
    "np.random.seed(100)\n",
    "probs = np.r_[np.linspace(0, 0.500, num=50), np.linspace(0.501, .750, num=50), np.linspace(.751, 1.0, num=50)]\n",
    "index = np.searchsorted(probs, np.random.random(150))\n",
    "species_out = species[index]\n",
    "print(np.unique(species_out, return_counts=True))\n",
    "#Approach 2 is preferred because it creates an index variable that can be used to sample 2d tabular data.\n",
    "'''"
   ]
  },
  {
   "cell_type": "code",
   "execution_count": 19,
   "metadata": {},
   "outputs": [
    {
     "name": "stdout",
     "output_type": "stream",
     "text": [
      "1.7\n"
     ]
    }
   ],
   "source": [
    "#43 What is the value of second longest petallength of species setosa\n",
    "url = 'https://archive.ics.uci.edu/ml/machine-learning-databases/iris/iris.data'\n",
    "iris = np.genfromtxt(url, delimiter=',', dtype='object')\n",
    "petallength_groupby_setosa = iris[np.where(iris[:,4]==b'Iris-setosa')][:,2].astype('float')\n",
    "petallength_groupby_setosa_2max = np.unique(np.sort(petallength_groupby_setosa))[-2]\n",
    "print(petallength_groupby_setosa_2max)"
   ]
  },
  {
   "cell_type": "code",
   "execution_count": 22,
   "metadata": {
    "collapsed": true
   },
   "outputs": [
    {
     "name": "stdout",
     "output_type": "stream",
     "text": [
      "[[b'4.3' b'3.0' b'1.1' b'0.1' b'Iris-setosa']\n",
      " [b'4.4' b'3.2' b'1.3' b'0.2' b'Iris-setosa']\n",
      " [b'4.4' b'3.0' b'1.3' b'0.2' b'Iris-setosa']\n",
      " [b'4.4' b'2.9' b'1.4' b'0.2' b'Iris-setosa']\n",
      " [b'4.5' b'2.3' b'1.3' b'0.3' b'Iris-setosa']\n",
      " [b'4.6' b'3.6' b'1.0' b'0.2' b'Iris-setosa']\n",
      " [b'4.6' b'3.1' b'1.5' b'0.2' b'Iris-setosa']\n",
      " [b'4.6' b'3.4' b'1.4' b'0.3' b'Iris-setosa']\n",
      " [b'4.6' b'3.2' b'1.4' b'0.2' b'Iris-setosa']\n",
      " [b'4.7' b'3.2' b'1.3' b'0.2' b'Iris-setosa']\n",
      " [b'4.7' b'3.2' b'1.6' b'0.2' b'Iris-setosa']\n",
      " [b'4.8' b'3.0' b'1.4' b'0.1' b'Iris-setosa']\n",
      " [b'4.8' b'3.0' b'1.4' b'0.3' b'Iris-setosa']\n",
      " [b'4.8' b'3.4' b'1.9' b'0.2' b'Iris-setosa']\n",
      " [b'4.8' b'3.4' b'1.6' b'0.2' b'Iris-setosa']\n",
      " [b'4.8' b'3.1' b'1.6' b'0.2' b'Iris-setosa']\n",
      " [b'4.9' b'2.4' b'3.3' b'1.0' b'Iris-versicolor']\n",
      " [b'4.9' b'2.5' b'4.5' b'1.7' b'Iris-virginica']\n",
      " [b'4.9' b'3.1' b'1.5' b'0.1' b'Iris-setosa']\n",
      " [b'4.9' b'3.1' b'1.5' b'0.1' b'Iris-setosa']]\n"
     ]
    }
   ],
   "source": [
    "#44 Sort the iris dataset based on sepallength column.\n",
    "url = 'https://archive.ics.uci.edu/ml/machine-learning-databases/iris/iris.data'\n",
    "iris = np.genfromtxt(url, delimiter=',', dtype='object')\n",
    "names = ('sepallength', 'sepalwidth', 'petallength', 'petalwidth', 'species')\n",
    "\n",
    "sorted_iris_by_sepallength = iris[iris[:,0].argsort()]\n",
    "print(sorted_iris_by_sepallength[:20])"
   ]
  },
  {
   "cell_type": "code",
   "execution_count": 26,
   "metadata": {},
   "outputs": [
    {
     "name": "stdout",
     "output_type": "stream",
     "text": [
      "b'1.5'\n"
     ]
    }
   ],
   "source": [
    "#45 Find the most frequent value of petal length (3rd column) in iris dataset.\n",
    "url = 'https://archive.ics.uci.edu/ml/machine-learning-databases/iris/iris.data'\n",
    "iris = np.genfromtxt(url, delimiter=',', dtype='object')\n",
    "vals, counts = np.unique(iris[:, 2], return_counts=True)\n",
    "most_freq_petallength = vals[np.argmax(counts)]\n",
    "print(most_freq_petallength)"
   ]
  },
  {
   "cell_type": "code",
   "execution_count": 29,
   "metadata": {},
   "outputs": [
    {
     "name": "stdout",
     "output_type": "stream",
     "text": [
      "[50]\n"
     ]
    }
   ],
   "source": [
    "#46 Find the position of the first occurrence of a value greater than 1.0 in petalwidth 4th column of iris dataset.\n",
    "url = 'https://archive.ics.uci.edu/ml/machine-learning-databases/iris/iris.data'\n",
    "iris = np.genfromtxt(url, delimiter=',', dtype='object')\n",
    "value = np.argwhere(iris[:,3].astype('float')>1.0)[0]\n",
    "print(value)"
   ]
  },
  {
   "cell_type": "code",
   "execution_count": 30,
   "metadata": {},
   "outputs": [
    {
     "name": "stdout",
     "output_type": "stream",
     "text": [
      "[27.63 14.64 21.8  30.   10.   10.   30.   30.   10.   29.18 30.   11.25\n",
      " 10.08 10.   11.77 30.   30.   10.   30.   14.43]\n"
     ]
    }
   ],
   "source": [
    "#47  From the array a, replace all values greater than 30 to 30 and less than 10 to 10\n",
    "np.set_printoptions(precision=2)\n",
    "np.random.seed(100)\n",
    "a = np.random.uniform(1,50, 20)\n",
    "#clip function *\n",
    "a=np.clip(a, a_min=10, a_max=30)\n",
    "'''By using where also we can do it'''\n",
    "print(a)"
   ]
  },
  {
   "cell_type": "code",
   "execution_count": 37,
   "metadata": {},
   "outputs": [
    {
     "name": "stdout",
     "output_type": "stream",
     "text": [
      "[15 10  3  7 18]\n"
     ]
    }
   ],
   "source": [
    "#48 Get the positions of top 5(n) maximum values in a given array a\n",
    "np.set_printoptions(precision=2)\n",
    "np.random.seed(100)\n",
    "a = np.random.uniform(1,50, 20)\n",
    "positions = a.argsort()[:-6:-1]\n",
    "print(positions)"
   ]
  },
  {
   "cell_type": "code",
   "execution_count": 49,
   "metadata": {},
   "outputs": [
    {
     "name": "stdout",
     "output_type": "stream",
     "text": [
      "[[1, 0, 2, 1, 1, 1, 0, 2, 2, 0], [2, 1, 3, 0, 1, 0, 1, 0, 1, 1], [0, 3, 0, 2, 3, 1, 0, 1, 0, 0], [1, 0, 2, 1, 0, 1, 0, 2, 1, 2], [2, 2, 2, 0, 0, 1, 1, 1, 1, 0], [1, 1, 1, 1, 1, 2, 0, 0, 2, 1]]\n"
     ]
    }
   ],
   "source": [
    "#49 Compute the counts of unique values row-wise.\n",
    "np.random.seed(100)\n",
    "arr = np.random.randint(1,11,size=(6, 10))\n",
    "out=[]\n",
    "for res in [np.unique(a,return_counts=True) for a in arr]:\n",
    "    val,count=res\n",
    "    d={val[i]:count[i] for i in range(len(val))}\n",
    "    out.append([d[x] if x in d else 0 for x in range(1,11)])\n",
    "print(out)"
   ]
  },
  {
   "cell_type": "code",
   "execution_count": 5,
   "metadata": {},
   "outputs": [
    {
     "name": "stdout",
     "output_type": "stream",
     "text": [
      "[0 1 2 3 4 5 6 7 8 9]\n"
     ]
    }
   ],
   "source": [
    "#50 Convert array_of_arrays into a flat linear 1d array.\n",
    "arr1 = np.arange(3)\n",
    "arr2 = np.arange(3,7)\n",
    "arr3 = np.arange(7,10)\n",
    "\n",
    "# arr=np.arange(10).reshape(5,2)\n",
    "# print(arr.ravel())\n",
    "# https://stackoverflow.com/questions/28930465/what-is-the-difference-between-flatten-and-ravel-functions-in-numpy\n",
    "array_of_arrays = np.array([arr1, arr2, arr3])\n",
    "arr = np.concatenate(array_of_arrays)\n",
    "print(arr)"
   ]
  },
  {
   "cell_type": "code",
   "execution_count": 26,
   "metadata": {
    "collapsed": true
   },
   "outputs": [
    {
     "name": "stdout",
     "output_type": "stream",
     "text": [
      "[2 7 8 9 5 9]\n",
      "[[2]\n",
      " [7]\n",
      " [8]\n",
      " [9]\n",
      " [5]\n",
      " [9]]\n",
      "[[1 0 0 0 0]\n",
      " [0 0 1 0 0]\n",
      " [0 0 0 1 0]\n",
      " [0 0 0 0 1]\n",
      " [0 1 0 0 0]\n",
      " [0 0 0 0 1]]\n"
     ]
    }
   ],
   "source": [
    "#51 Compute the one-hot encodings (dummy binary variables for each unique value in the array)\n",
    "np.random.seed(101) \n",
    "arr = np.random.randint(1,10, size=6)\n",
    "print(arr)\n",
    "print(arr[:, None])\n",
    "print((arr[:, None] == np.unique(arr)).view(np.int8))\n",
    "\n",
    "\n",
    "#Important.....*"
   ]
  },
  {
   "cell_type": "code",
   "execution_count": 27,
   "metadata": {},
   "outputs": [
    {
     "name": "stdout",
     "output_type": "stream",
     "text": [
      "[0, 1, 2, 3, 4, 0, 1, 2, 3, 4, 5, 6, 7, 8, 0, 1, 2, 3, 4, 5]\n"
     ]
    }
   ],
   "source": [
    "#52  Create row numbers grouped by a categorical variable. Use the following sample from iris species as input.\n",
    "url = 'https://archive.ics.uci.edu/ml/machine-learning-databases/iris/iris.data'\n",
    "species = np.genfromtxt(url, delimiter=',', dtype='str', usecols=4)\n",
    "np.random.seed(100)\n",
    "species_small = np.sort(np.random.choice(species, size=20))\n",
    "print([i for val in np.unique(species_small) for i, grp in enumerate(species_small[species_small==val])])\n",
    "\n",
    "#Try another way"
   ]
  },
  {
   "cell_type": "code",
   "execution_count": 44,
   "metadata": {},
   "outputs": [
    {
     "name": "stdout",
     "output_type": "stream",
     "text": [
      "[0, 0, 0, 0, 0, 1, 1, 1, 1, 1, 1, 1, 1, 1, 2, 2, 2, 2, 2, 2]\n"
     ]
    }
   ],
   "source": [
    "#53 Create group ids based on a given categorical variable. Use the following sample from iris species as input.\n",
    "url = 'https://archive.ics.uci.edu/ml/machine-learning-databases/iris/iris.data'\n",
    "species = np.genfromtxt(url, delimiter=',', dtype='str', usecols=4)\n",
    "np.random.seed(100)\n",
    "species_small = np.sort(np.random.choice(species, size=20))\n",
    "array=[np.where(i)[0][0] for i in (species_small[:,None] == np.unique(species_small))]\n",
    "print(array)"
   ]
  },
  {
   "cell_type": "code",
   "execution_count": 46,
   "metadata": {},
   "outputs": [
    {
     "ename": "SyntaxError",
     "evalue": "invalid syntax (<ipython-input-46-19a092360c0b>, line 2)",
     "output_type": "error",
     "traceback": [
      "\u001b[1;36m  File \u001b[1;32m\"<ipython-input-46-19a092360c0b>\"\u001b[1;36m, line \u001b[1;32m2\u001b[0m\n\u001b[1;33m    Need to understand what is ranks.\u001b[0m\n\u001b[1;37m         ^\u001b[0m\n\u001b[1;31mSyntaxError\u001b[0m\u001b[1;31m:\u001b[0m invalid syntax\n"
     ]
    }
   ],
   "source": [
    "#54  Create the ranks for the given numeric array a.\n",
    "Need to understand what is ranks."
   ]
  },
  {
   "cell_type": "code",
   "execution_count": 47,
   "metadata": {},
   "outputs": [
    {
     "ename": "SyntaxError",
     "evalue": "invalid syntax (<ipython-input-47-481690461177>, line 2)",
     "output_type": "error",
     "traceback": [
      "\u001b[1;36m  File \u001b[1;32m\"<ipython-input-47-481690461177>\"\u001b[1;36m, line \u001b[1;32m2\u001b[0m\n\u001b[1;33m    Need to understand what is ranks.\u001b[0m\n\u001b[1;37m         ^\u001b[0m\n\u001b[1;31mSyntaxError\u001b[0m\u001b[1;31m:\u001b[0m invalid syntax\n"
     ]
    }
   ],
   "source": [
    "#55 Create a rank array of the same shape as a given numeric array a.\n",
    "Need to understand what is ranks."
   ]
  },
  {
   "cell_type": "code",
   "execution_count": 52,
   "metadata": {},
   "outputs": [
    {
     "name": "stdout",
     "output_type": "stream",
     "text": [
      "[[9 9 4]\n",
      " [8 8 1]\n",
      " [5 3 6]\n",
      " [3 3 3]\n",
      " [2 1 9]]\n",
      "[9, 8, 6, 3, 9]\n",
      "[9 8 6 3 9]\n"
     ]
    }
   ],
   "source": [
    "#56  Compute the maximum for each row in the given array.\n",
    "np.random.seed(100)\n",
    "a = np.random.randint(1,10, [5,3])\n",
    "print(a)\n",
    "#method 1\n",
    "max_row = [i.max() for i in a]\n",
    "print(max_row)\n",
    "\n",
    "#method2\n",
    "max_row = np.amax(a,axis=1)\n",
    "print(max_row)"
   ]
  },
  {
   "cell_type": "code",
   "execution_count": 58,
   "metadata": {},
   "outputs": [
    {
     "name": "stdout",
     "output_type": "stream",
     "text": [
      "[0.44444444 0.125      0.5        1.         0.11111111]\n"
     ]
    }
   ],
   "source": [
    "#57 Compute the min-by-max for each row for given 2d numpy array\n",
    "np.random.seed(100)\n",
    "a = np.random.randint(1,10, [5,3])\n",
    "res = np.apply_along_axis(lambda x : np.min(x)/np.max(x),axis=1,arr=a)\n",
    "print(res)"
   ]
  },
  {
   "cell_type": "code",
   "execution_count": 59,
   "metadata": {},
   "outputs": [],
   "source": [
    "#58 Q. Find the duplicate entries (2nd occurrence onwards) in the given numpy array and mark them as True. First time occurrences should be False.\n"
   ]
  },
  {
   "cell_type": "code",
   "execution_count": null,
   "metadata": {},
   "outputs": [],
   "source": []
  }
 ],
 "metadata": {
  "kernelspec": {
   "display_name": "Python 3",
   "language": "python",
   "name": "python3"
  },
  "language_info": {
   "codemirror_mode": {
    "name": "ipython",
    "version": 3
   },
   "file_extension": ".py",
   "mimetype": "text/x-python",
   "name": "python",
   "nbconvert_exporter": "python",
   "pygments_lexer": "ipython3",
   "version": "3.8.0"
  }
 },
 "nbformat": 4,
 "nbformat_minor": 4
}
