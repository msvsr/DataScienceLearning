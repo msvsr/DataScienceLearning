{
 "cells": [
  {
   "cell_type": "markdown",
   "metadata": {},
   "source": [
    "<a href=\"https://numpy.org/\">Numpy Documenation</a><br>\n",
    "<a href=\"https://numpy.org/devdocs/user/quickstart.html\">Tutorial</a>"
   ]
  },
  {
   "cell_type": "code",
   "execution_count": 2,
   "metadata": {},
   "outputs": [],
   "source": [
    "import numpy as np"
   ]
  },
  {
   "cell_type": "markdown",
   "metadata": {},
   "source": [
    ">Key Points\n",
    "<ol>\n",
    "<li>NumPy’s main object is the homogeneous multidimensional array.</li>\n",
    "<li>In NumPy dimensions are called <b>axes</b>.</li>\n",
    "<li>NumPy’s array class is called <b>ndarray</b>.</li>\n",
    "</ol>"
   ]
  },
  {
   "cell_type": "markdown",
   "metadata": {},
   "source": [
    ">Important Attributes of ndarray object are:\n",
    "1. ndim\n",
    "2. shape\n",
    "3. size\n",
    "4. shape\n",
    "5. itemsize\n",
    "6. data"
   ]
  },
  {
   "cell_type": "markdown",
   "metadata": {},
   "source": [
    "#### Array Creation functions\n",
    "\n",
    "1. <a href=\"https://docs.scipy.org/doc/numpy/reference/generated/numpy.array.html#numpy.array\">array</a>\n",
    "2. <a href=\"https://docs.scipy.org/doc/numpy/reference/generated/numpy.empty_like.html#numpy.empty_like\">empty_like</a>\n",
    "3. <a href=\"https://docs.scipy.org/doc/numpy/reference/generated/numpy.ones_like.html#numpy.ones_like\">ones_like</a>\n",
    "4. <a href=\"https://docs.scipy.org/doc/numpy/reference/generated/numpy.zeros_like.html#numpy.zeros_like\">zeroes_like</a>\n",
    "5. <a href=\"https://docs.scipy.org/doc/numpy/reference/generated/numpy.full_like.html#numpy.full_like\">full_like</a>\n",
    "6. <a href=\"https://docs.scipy.org/doc/numpy/reference/generated/numpy.empty.html#numpy.empty\">empty</a>\n",
    "7. <a href=\"https://docs.scipy.org/doc/numpy/reference/generated/numpy.ones.html#numpy.ones\">ones</a>\n",
    "8. <a href=\"https://docs.scipy.org/doc/numpy/reference/generated/numpy.zeros.html#numpy.zeros\">zeros</a>\n",
    "9. <a href=\"https://docs.scipy.org/doc/numpy/reference/generated/numpy.full.html#numpy.full\">full</a>\n",
    "---\n",
    "10. <a href=\"https://jakevdp.github.io/PythonDataScienceHandbook/02.09-structured-data-numpy.html\">Structured Data: NumPy's Structured Arrays</a>\n",
    "\n",
    "---\n",
    "\n",
    "11. <a href=\"https://numpy.org/devdocs/reference/generated/numpy.arange.html#numpy.arange\">arange</a>\n",
    "12. <a href=\"https://numpy.org/devdocs/reference/generated/numpy.linspace.html#numpy.linspace\">linspace</a>\n",
    "\n",
    "---\n",
    "\n",
    "13. <a href=\"https://docs.scipy.org/doc/numpy-1.14.0/reference/routines.random.html\">*Random</a>\n",
    "\n",
    "---\n",
    "14. <a href=\"https://numpy.org/devdocs/reference/generated/numpy.fromfunction.html#numpy.fromfunction\">fromfunction</a>\n",
    "15. <a href=\"https://numpy.org/devdocs/reference/generated/numpy.fromfile.html#numpy.fromfile\">fromfile</a>\n",
    "\n",
    "---\n",
    "16. <a href=\"https://docs.scipy.org/doc/numpy/reference/generated/numpy.ndarray.reshape.html#numpy.ndarray.reshape\">ndarray.reshape</a>\n",
    "17. <a href=\"https://docs.scipy.org/doc/numpy/reference/generated/numpy.reshape.html\">numpy.reshape</a>\n",
    "---\n",
    "18. set_printoptions ^\n",
    "---\n",
    "19. <a href=\"https://numpy.org/devdocs/user/quickstart.html#basic-operations\">Basic Operations</a>\n",
    "---\n",
    "20. <a href=\"https://numpy.org/devdocs/user/quickstart.html#indexing-slicing-and-iterating\">Indexing, slicing and Iterating</a>\n",
    "21. <a href=\"https://numpy.org/devdocs/user/quickstart.html#shape-manipulation\">Shape manipulation:ndarray.shape, reshape, resize, ravel</a>\n",
    "---\n",
    "22. <a href=\"https://numpy.org/devdocs/user/quickstart.html#functions-and-methods-overview\">Functions methods & Overview</a>"
   ]
  },
  {
   "cell_type": "code",
   "execution_count": 56,
   "metadata": {},
   "outputs": [
    {
     "name": "stdout",
     "output_type": "stream",
     "text": [
      "[1 2 3 4 5 6]\n",
      "[1 2 3 4 5 6]\n",
      "[1. 2. 3. 4. 5. 6.]\n",
      "[[ 1  2  3  4  5]\n",
      " [ 6  7  8  9 10]]\n",
      "[[[1 2 3]\n",
      "  [4 5 6]]]\n",
      "6\n",
      "(1, 2, 3)\n",
      "[[1. 1. 1.]\n",
      " [1. 1. 1.]\n",
      " [1. 1. 1.]]\n",
      "[[4607182418800017408 4607182418800017408 4607182418800017408]\n",
      " [4607182418800017408 4607182418800017408 4607182418800017408]\n",
      " [4607182418800017408 4607182418800017408 4607182418800017408]]\n",
      "[[0 0 0]\n",
      " [0 0 0]\n",
      " [0 0 0]]\n",
      "[[0. 0. 0.]\n",
      " [0. 0. 0.]\n",
      " [0. 0. 0.]]\n",
      "[[1. 1. 1.]\n",
      " [1. 1. 1.]\n",
      " [1. 1. 1.]]\n",
      "[[1 1 1]\n",
      " [1 1 1]\n",
      " [1 1 1]]\n",
      "[0.1 0.1 0.1 0.1 0.1 0.1]\n",
      "[3 3 3 3 3 3]\n",
      "[[0.1 0.1]\n",
      " [0.1 0.1]\n",
      " [0.1 0.1]]\n",
      "[[3 3]\n",
      " [3 3]\n",
      " [3 3]]\n",
      "[0 1 2 3 4 5 6 7 8 9]\n",
      "[0.         0.07894737 0.15789474 0.23684211 0.31578947 0.39473684\n",
      " 0.47368421 0.55263158 0.63157895 0.71052632 0.78947368 0.86842105\n",
      " 0.94736842 1.02631579 1.10526316 1.18421053 1.26315789 1.34210526\n",
      " 1.42105263 1.5       ]\n",
      "[[[0.76503218 0.36429618 0.28831867 0.68630838]\n",
      "  [0.15190604 0.22235366 0.53645923 0.80747174]\n",
      "  [0.79920456 0.54240462 0.83301019 0.10974949]]\n",
      "\n",
      " [[0.7496847  0.62804504 0.83590256 0.57094558]\n",
      "  [0.50579439 0.02377991 0.02865641 0.73311407]\n",
      "  [0.28754967 0.74794313 0.09652889 0.86988185]]]\n",
      "[ 0.73066495  0.26347443  0.31450147  1.01361942 -0.47596755  1.09546656\n",
      "  0.11642084 -0.43573058 -0.34289639 -1.26181418]\n",
      "[[[-0.36348912 -0.87880178  0.78863672]\n",
      "  [ 0.71853809  0.88592038 -0.64613022]]]\n",
      "[4.79177515 3.5775846  4.24541579 5.09514327 5.86816005 4.90621131\n",
      " 4.88991063 4.44218717 4.95111423 5.14773849]\n",
      "[[0 1 2 3 4]\n",
      " [5 6 7 8 9]]\n",
      "[[0 1]\n",
      " [2 3]\n",
      " [4 5]\n",
      " [6 7]\n",
      " [8 9]]\n"
     ]
    }
   ],
   "source": [
    "#array\n",
    "nparray_from_pylist = np.array([1,2,3,4,5,6])\n",
    "nparray_from_pytuple = np.array((1,2,3,4,5,6))\n",
    "print(nparray_from_pylist)\n",
    "print(nparray_from_pytuple)\n",
    "\n",
    "nparray_dtype = np.array([1,2,3,4,5,6],dtype=np.float64)\n",
    "print(nparray_dtype)\n",
    "\n",
    "nparray_multidimensional = np.array([(1,2,3,4,5),(6,7,8,9,10)])\n",
    "print(nparray_multidimensional)\n",
    "\n",
    "nparray_ndim = np.array([[1,2,3],[4,5,6]],ndmin=3)\n",
    "print(nparray_ndim)\n",
    "print(nparray_ndim.size)\n",
    "print(nparray_ndim.shape)\n",
    "\n",
    "nparray_empty = np.empty((3,3))\n",
    "print(nparray_empty)\n",
    "nparray_empty_like = np.empty_like(nparray_empty,dtype=np.int64)\n",
    "print(nparray_empty_like)\n",
    "\n",
    "nparray_zeros = np.zeros((3,3),dtype=np.int64)\n",
    "print(nparray_zeros)\n",
    "nparray_zeros_like = np.zeros_like(nparray_zeros,dtype=np.float64)\n",
    "print(nparray_zeros_like)\n",
    "\n",
    "nparray_ones = np.ones((3,3),dtype=np.float64)\n",
    "print(nparray_ones)\n",
    "nparray_ones_like = np.ones_like(nparray_ones, dtype=np.int16)\n",
    "print(nparray_ones_like)\n",
    "\n",
    "nparray_full = np.full(6,0.1)\n",
    "print(nparray_full)\n",
    "nparray_full_like = np.full_like(nparray_full,3.8,dtype=np.int64)\n",
    "print(nparray_full_like)\n",
    "nparray_full = np.full((3,2),0.1)\n",
    "print(nparray_full)\n",
    "nparray_full_like = np.full_like(nparray_full,3.8,dtype=np.int64)\n",
    "print(nparray_full_like)\n",
    "\n",
    "nparray_arange = np.arange(10)\n",
    "print(nparray_arange)\n",
    "\n",
    "nparray_linspace = np.linspace(0.0, 1.5,20)\n",
    "print(nparray_linspace)\n",
    "\n",
    "nparray_rand = np.random.rand(2,3,4)\n",
    "print(nparray_rand)\n",
    "\n",
    "#Mean-0 variance-1\n",
    "nparray_randn = np.random.randn(10)\n",
    "print(nparray_randn)\n",
    "nparray_randn = np.random.randn(1,2,3)\n",
    "print(nparray_randn)\n",
    "#For random samples from N(\\mu, \\sigma^2), use:\n",
    "#sigma * np.random.randn(...) + mu\n",
    "#Mean-5 variance-1\n",
    "nparray_randn =1*np.random.randn(10)+5\n",
    "print(nparray_randn)\n",
    "\n",
    "nparray_ndarray_reshape = np.arange(10).reshape(2,5)\n",
    "print(nparray_ndarray_reshape)\n",
    "\n",
    "nparray_numpy_reshape = np.reshape(nparray_ndarray_reshape,(5,2))\n",
    "print(nparray_numpy_reshape)\n"
   ]
  },
  {
   "cell_type": "markdown",
   "metadata": {},
   "source": [
    "##### Numpy Exercises\n",
    "<a href=\"https://www.machinelearningplus.com/python/101-numpy-exercises-python/\"> Q & A Practice</a>"
   ]
  },
  {
   "cell_type": "code",
   "execution_count": 60,
   "metadata": {},
   "outputs": [
    {
     "name": "stdout",
     "output_type": "stream",
     "text": [
      "1.18.1\n"
     ]
    }
   ],
   "source": [
    "#1\n",
    "import numpy as np\n",
    "print(np.__version__)"
   ]
  },
  {
   "cell_type": "code",
   "execution_count": 67,
   "metadata": {},
   "outputs": [
    {
     "name": "stdout",
     "output_type": "stream",
     "text": [
      "[0 1 2 3 4 5 6 7 8 9]\n"
     ]
    }
   ],
   "source": [
    "#2\n",
    "arr = np.arange(10)\n",
    "print(oned_array)"
   ]
  },
  {
   "cell_type": "code",
   "execution_count": 68,
   "metadata": {},
   "outputs": [
    {
     "name": "stdout",
     "output_type": "stream",
     "text": [
      "[[ True  True  True]\n",
      " [ True  True  True]\n",
      " [ True  True  True]]\n",
      "[[ True  True  True]\n",
      " [ True  True  True]\n",
      " [ True  True  True]]\n",
      "[[False False False]\n",
      " [False False False]\n",
      " [False False False]]\n"
     ]
    }
   ],
   "source": [
    "#3\n",
    "bool_arr = np.full((3,3),True,dtype=bool)\n",
    "print(bool_arr)\n",
    "\n",
    "#Alternate Method\n",
    "bool_arr = np.ones((3,3),dtype=bool)\n",
    "print(bool_arr)\n",
    "#With False\n",
    "bool_arr_false = np.zeros((3,3),dtype=bool)\n",
    "print(bool_arr_false)"
   ]
  },
  {
   "cell_type": "code",
   "execution_count": 70,
   "metadata": {},
   "outputs": [
    {
     "name": "stdout",
     "output_type": "stream",
     "text": [
      "[1 3 5 7 9]\n"
     ]
    }
   ],
   "source": [
    "#4\n",
    "print(arr[arr%2==1])"
   ]
  },
  {
   "cell_type": "code",
   "execution_count": 71,
   "metadata": {},
   "outputs": [
    {
     "name": "stdout",
     "output_type": "stream",
     "text": [
      "[ 0 -1  2 -1  4 -1  6 -1  8 -1]\n"
     ]
    }
   ],
   "source": [
    "#5\n",
    "arr[arr%2==1]=-1\n",
    "print(arr)"
   ]
  },
  {
   "cell_type": "code",
   "execution_count": null,
   "metadata": {},
   "outputs": [],
   "source": []
  }
 ],
 "metadata": {
  "kernelspec": {
   "display_name": "Python 3",
   "language": "python",
   "name": "python3"
  },
  "language_info": {
   "codemirror_mode": {
    "name": "ipython",
    "version": 3
   },
   "file_extension": ".py",
   "mimetype": "text/x-python",
   "name": "python",
   "nbconvert_exporter": "python",
   "pygments_lexer": "ipython3",
   "version": "3.8.0"
  }
 },
 "nbformat": 4,
 "nbformat_minor": 4
}
