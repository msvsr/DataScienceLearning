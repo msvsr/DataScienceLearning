{
 "cells": [
  {
   "cell_type": "markdown",
   "metadata": {},
   "source": [
    "##### https://pandas.pydata.org/docs/user_guide/index.html"
   ]
  },
  {
   "cell_type": "markdown",
   "metadata": {},
   "source": [
    "# 1. <a href=\"https://pandas.pydata.org/docs/getting_started/10min.html#min\">10min to panda</a>\n",
    "2. <a href=\"https://www.machinelearningplus.com/python/101-pandas-exercises-python/\">Questions</a>"
   ]
  },
  {
   "cell_type": "markdown",
   "metadata": {},
   "source": [
    "##### Pandas DataStructures\n",
    "1. <a href=\"https://pandas.pydata.org/docs/getting_started/dsintro.html#series\">Series</a>\n",
    "2. <a href=\"https://pandas.pydata.org/docs/getting_started/dsintro.html#dataframe\">DataFrame</a>"
   ]
  },
  {
   "cell_type": "code",
   "execution_count": 3,
   "metadata": {},
   "outputs": [
    {
     "name": "stdout",
     "output_type": "stream",
     "text": [
      "Collecting pandas\n",
      "  Downloading https://files.pythonhosted.org/packages/d9/02/efd55383399646d0bc3bf0078130ae08f2890dd68276e3f4d7a4e94539a4/pandas-1.0.1-cp38-cp38-win32.whl (7.8MB)\n",
      "Requirement already satisfied: python-dateutil>=2.6.1 in c:\\users\\admin\\appdata\\local\\programs\\python\\python38-32\\lib\\site-packages (from pandas) (2.8.1)\n",
      "Collecting pytz>=2017.2 (from pandas)\n",
      "  Using cached https://files.pythonhosted.org/packages/e7/f9/f0b53f88060247251bf481fa6ea62cd0d25bf1b11a87888e53ce5b7c8ad2/pytz-2019.3-py2.py3-none-any.whl\n",
      "Requirement already satisfied: numpy>=1.13.3 in c:\\users\\admin\\appdata\\local\\programs\\python\\python38-32\\lib\\site-packages (from pandas) (1.18.1)\n",
      "Requirement already satisfied: six>=1.5 in c:\\users\\admin\\appdata\\local\\programs\\python\\python38-32\\lib\\site-packages (from python-dateutil>=2.6.1->pandas) (1.14.0)\n",
      "Installing collected packages: pytz, pandas\n",
      "Successfully installed pandas-1.0.1 pytz-2019.3\n"
     ]
    },
    {
     "name": "stderr",
     "output_type": "stream",
     "text": [
      "WARNING: You are using pip version 19.2.3, however version 20.0.2 is available.\n",
      "You should consider upgrading via the 'python -m pip install --upgrade pip' command.\n"
     ]
    }
   ],
   "source": [
    "!pip3 install pandas"
   ]
  },
  {
   "cell_type": "code",
   "execution_count": 3,
   "metadata": {},
   "outputs": [
    {
     "name": "stdout",
     "output_type": "stream",
     "text": [
      "1.0.1\n"
     ]
    }
   ],
   "source": [
    "#1 How to import pandas and check the version?\n",
    "import numpy as np\n",
    "import pandas as pd\n",
    "print(pd.__version__)"
   ]
  },
  {
   "cell_type": "code",
   "execution_count": 3,
   "metadata": {
    "collapsed": true
   },
   "outputs": [
    {
     "name": "stdout",
     "output_type": "stream",
     "text": [
      "0     a\n",
      "1     b\n",
      "2     c\n",
      "3     e\n",
      "4     d\n",
      "5     f\n",
      "6     g\n",
      "7     h\n",
      "8     i\n",
      "9     j\n",
      "10    k\n",
      "11    l\n",
      "12    m\n",
      "13    n\n",
      "14    o\n",
      "15    p\n",
      "16    q\n",
      "17    r\n",
      "18    s\n",
      "19    t\n",
      "20    u\n",
      "21    v\n",
      "22    w\n",
      "23    x\n",
      "24    y\n",
      "25    z\n",
      "dtype: object\n",
      "0      0\n",
      "1      1\n",
      "2      2\n",
      "3      3\n",
      "4      4\n",
      "5      5\n",
      "6      6\n",
      "7      7\n",
      "8      8\n",
      "9      9\n",
      "10    10\n",
      "11    11\n",
      "12    12\n",
      "13    13\n",
      "14    14\n",
      "15    15\n",
      "16    16\n",
      "17    17\n",
      "18    18\n",
      "19    19\n",
      "20    20\n",
      "21    21\n",
      "22    22\n",
      "23    23\n",
      "24    24\n",
      "25    25\n",
      "dtype: int32\n",
      "a     0\n",
      "b     1\n",
      "c     2\n",
      "e     3\n",
      "d     4\n",
      "f     5\n",
      "g     6\n",
      "h     7\n",
      "i     8\n",
      "j     9\n",
      "k    10\n",
      "l    11\n",
      "m    12\n",
      "n    13\n",
      "o    14\n",
      "p    15\n",
      "q    16\n",
      "r    17\n",
      "s    18\n",
      "t    19\n",
      "u    20\n",
      "v    21\n",
      "w    22\n",
      "x    23\n",
      "y    24\n",
      "z    25\n",
      "dtype: int64\n"
     ]
    }
   ],
   "source": [
    "#2 Create a pandas series from each of the items below: a list, numpy and a dictionary\n",
    "mylist = list('abcedfghijklmnopqrstuvwxyz')\n",
    "myarr = np.arange(26)\n",
    "mydict = dict(zip(mylist, myarr))\n",
    "mylist_s = pd.Series(mylist)\n",
    "print(mylist_s)\n",
    "myarr_s = pd.Series(myarr)\n",
    "print(myarr_s)\n",
    "mydict_s = pd.Series(mydict)\n",
    "print(mydict_s)"
   ]
  },
  {
   "cell_type": "code",
   "execution_count": 9,
   "metadata": {
    "collapsed": true
   },
   "outputs": [
    {
     "name": "stdout",
     "output_type": "stream",
     "text": [
      "   index   0\n",
      "0      a   0\n",
      "1      b   1\n",
      "2      c   2\n",
      "3      e   3\n",
      "4      d   4\n",
      "5      f   5\n",
      "6      g   6\n",
      "7      h   7\n",
      "8      i   8\n",
      "9      j   9\n",
      "10     k  10\n",
      "11     l  11\n",
      "12     m  12\n",
      "13     n  13\n",
      "14     o  14\n",
      "15     p  15\n",
      "16     q  16\n",
      "17     r  17\n",
      "18     s  18\n",
      "19     t  19\n",
      "20     u  20\n",
      "21     v  21\n",
      "22     w  22\n",
      "23     x  23\n",
      "24     y  24\n",
      "25     z  25\n"
     ]
    }
   ],
   "source": [
    "#3 Convert the series ser into a dataframe with its index as another column on the dataframe.\n",
    "mylist = list('abcedfghijklmnopqrstuvwxyz')\n",
    "myarr = np.arange(26)\n",
    "mydict = dict(zip(mylist, myarr))\n",
    "ser = pd.Series(mydict)\n",
    "df = ser.to_frame().reset_index()\n",
    "print(df)"
   ]
  },
  {
   "cell_type": "code",
   "execution_count": 12,
   "metadata": {
    "collapsed": true
   },
   "outputs": [
    {
     "name": "stdout",
     "output_type": "stream",
     "text": [
      "   ser1  ser2\n",
      "0     a     0\n",
      "1     b     1\n",
      "2     c     2\n",
      "3     e     3\n",
      "4     d     4\n",
      "5     f     5\n",
      "6     g     6\n",
      "7     h     7\n",
      "8     i     8\n",
      "9     j     9\n",
      "10    k    10\n",
      "11    l    11\n",
      "12    m    12\n",
      "13    n    13\n",
      "14    o    14\n",
      "15    p    15\n",
      "16    q    16\n",
      "17    r    17\n",
      "18    s    18\n",
      "19    t    19\n",
      "20    u    20\n",
      "21    v    21\n",
      "22    w    22\n",
      "23    x    23\n",
      "24    y    24\n",
      "25    z    25\n"
     ]
    }
   ],
   "source": [
    "#4 Combine ser1 and ser2 to form a dataframe\n",
    "ser1 = pd.Series(list('abcedfghijklmnopqrstuvwxyz'))\n",
    "ser2 = pd.Series(np.arange(26))\n",
    "df = pd.DataFrame({'ser1':ser1,'ser2':ser2})\n",
    "'''\n",
    "Another way:\n",
    "df = pd.concat([ser1, ser2], axis=1)\n",
    "'''\n",
    "print(df)"
   ]
  },
  {
   "cell_type": "code",
   "execution_count": 15,
   "metadata": {
    "collapsed": true
   },
   "outputs": [
    {
     "name": "stdout",
     "output_type": "stream",
     "text": [
      "0     a\n",
      "1     b\n",
      "2     c\n",
      "3     d\n",
      "4     e\n",
      "5     f\n",
      "6     g\n",
      "7     h\n",
      "8     i\n",
      "9     j\n",
      "10    k\n",
      "11    l\n",
      "12    m\n",
      "13    n\n",
      "14    o\n",
      "15    p\n",
      "16    q\n",
      "17    r\n",
      "18    s\n",
      "19    t\n",
      "20    u\n",
      "21    v\n",
      "22    w\n",
      "23    x\n",
      "24    y\n",
      "25    z\n",
      "Name: alphabets, dtype: object\n"
     ]
    }
   ],
   "source": [
    "#5 Give a name to the series ser calling it ‘alphabets’.\n",
    "ser = pd.Series(list('abcdefghijklmnopqrstuvwxyz'),name='alphabets')\n",
    "'''\n",
    "Another way:\n",
    "ser.name=\"alphabetsList\"\n",
    "'''\n",
    "print(ser)"
   ]
  },
  {
   "cell_type": "code",
   "execution_count": 21,
   "metadata": {
    "collapsed": true
   },
   "outputs": [
    {
     "name": "stdout",
     "output_type": "stream",
     "text": [
      "0    1\n",
      "1    2\n",
      "2    3\n",
      "dtype: int64\n"
     ]
    }
   ],
   "source": [
    "#6 From ser1 remove items present in ser2\n",
    "ser1 = pd.Series([1, 2, 3, 4, 5])\n",
    "ser2 = pd.Series([4, 5, 6, 7, 8])\n",
    "new_ser1 = ser1[~ser1.isin(ser2)] \n",
    "print(new_ser1)"
   ]
  },
  {
   "cell_type": "code",
   "execution_count": 25,
   "metadata": {
    "collapsed": true
   },
   "outputs": [
    {
     "name": "stdout",
     "output_type": "stream",
     "text": [
      "0    1\n",
      "1    2\n",
      "2    3\n",
      "2    6\n",
      "3    7\n",
      "4    8\n",
      "dtype: int64\n"
     ]
    }
   ],
   "source": [
    "#7 Get all items of ser1 and ser2 not common to both.\n",
    "ser1 = pd.Series([1, 2, 3, 4, 5])\n",
    "ser2 = pd.Series([4, 5, 6, 7, 8])\n",
    "not_common=pd.concat([ser1[~ser1.isin(ser2)],ser2[~ser2.isin(ser1)]])\n",
    "'''\n",
    "Using set operations in numpy.\n",
    "ser_u = pd.Series(np.union1d(ser1, ser2))  # union\n",
    "ser_i = pd.Series(np.intersect1d(ser1, ser2))  # intersect\n",
    "ser_u[~ser_u.isin(ser_i)]\n",
    "'''\n",
    "print(not_common)"
   ]
  },
  {
   "cell_type": "code",
   "execution_count": 33,
   "metadata": {
    "collapsed": true
   },
   "outputs": [
    {
     "name": "stdout",
     "output_type": "stream",
     "text": [
      "[ 1.25117263  7.70986507 10.92259345 13.36360403 18.0949083 ]\n"
     ]
    }
   ],
   "source": [
    "#8 Compute the minimum, 25th percentile, median, 75th, and maximum of ser.\n",
    "state=np.random.RandomState(100)\n",
    "ser = pd.Series(state.normal(10, 5, 25))\n",
    "percentile = np.percentile(ser,q=[0,25,50,75,100])\n",
    "print(percentile)"
   ]
  },
  {
   "cell_type": "code",
   "execution_count": 35,
   "metadata": {
    "collapsed": true
   },
   "outputs": [
    {
     "name": "stdout",
     "output_type": "stream",
     "text": [
      "e    7\n",
      "f    6\n",
      "h    4\n",
      "a    3\n",
      "c    3\n",
      "b    3\n",
      "g    2\n",
      "d    2\n",
      "dtype: int64\n"
     ]
    }
   ],
   "source": [
    "#9 Calculte the frequency counts of each unique value ser.\n",
    "ser = pd.Series(np.take(list('abcdefgh'), np.random.randint(8, size=30)))\n",
    "counts = ser.value_counts()\n",
    "print(counts)"
   ]
  },
  {
   "cell_type": "code",
   "execution_count": 49,
   "metadata": {
    "collapsed": true
   },
   "outputs": [
    {
     "name": "stdout",
     "output_type": "stream",
     "text": [
      "3    4\n",
      "2    4\n",
      "1    3\n",
      "4    1\n",
      "dtype: int64\n",
      "0     4\n",
      "1     3\n",
      "2     2\n",
      "3     1\n",
      "4     3\n",
      "5     1\n",
      "6     3\n",
      "7     1\n",
      "8     2\n",
      "9     2\n",
      "10    2\n",
      "11    3\n",
      "dtype: int32\n",
      "0    4\n",
      "3    1\n",
      "5    1\n",
      "7    1\n",
      "dtype: int32\n",
      "0    -1\n",
      "1     3\n",
      "2     2\n",
      "3    -1\n",
      "4     3\n",
      "5    -1\n",
      "6     3\n",
      "7    -1\n",
      "8     2\n",
      "9     2\n",
      "10    2\n",
      "11    3\n",
      "dtype: int32\n"
     ]
    }
   ],
   "source": [
    "#10 From ser, keep the top 2 most frequent items as it is and replace everything else as ‘Other’.\n",
    "np.random.RandomState(100)\n",
    "ser = pd.Series(np.random.randint(1, 5, [12]))\n",
    "counts = ser.value_counts()\n",
    "print(counts)\n",
    "print(ser)\n",
    "print(ser[~ser.isin(counts[:2].index)])\n",
    "ser[~ser.isin(counts[:2].index)]=-1\n",
    "print(ser)"
   ]
  },
  {
   "cell_type": "code",
   "execution_count": 1,
   "metadata": {},
   "outputs": [],
   "source": [
    "#11 Bin the series ser into 10 equal deciles and replace the values with the bin name.\n",
    "# -- Need to look"
   ]
  },
  {
   "cell_type": "code",
   "execution_count": 4,
   "metadata": {},
   "outputs": [
    {
     "name": "stdout",
     "output_type": "stream",
     "text": [
      "   0  1  2  3  4\n",
      "0  7  9  9  5  6\n",
      "1  1  6  7  7  2\n",
      "2  9  2  6  5  6\n",
      "3  9  7  6  9  7\n",
      "4  8  7  5  5  2\n",
      "5  6  7  5  3  4\n",
      "6  3  7  6  2  5\n"
     ]
    }
   ],
   "source": [
    "#12 Reshape the series ser into a dataframe with 7 rows and 5 columns\n",
    "ser = pd.Series(np.random.randint(1, 10, 35))\n",
    "df = pd.DataFrame(ser.values.reshape(7,5))\n",
    "print(df)"
   ]
  },
  {
   "cell_type": "code",
   "execution_count": 14,
   "metadata": {
    "collapsed": true
   },
   "outputs": [
    {
     "name": "stdout",
     "output_type": "stream",
     "text": [
      "0    8\n",
      "1    2\n",
      "2    6\n",
      "3    9\n",
      "4    7\n",
      "5    5\n",
      "6    3\n",
      "dtype: int32\n",
      "[[2]\n",
      " [3]\n",
      " [6]]\n"
     ]
    }
   ],
   "source": [
    "#13 How to find the positions of numbers that are multiples of 3 from a series?\n",
    "ser = pd.Series(np.random.randint(1, 10, 7))\n",
    "print(ser)\n",
    "positions = np.argwhere(ser.values % 3 == 0)\n",
    "print(positions)"
   ]
  },
  {
   "cell_type": "code",
   "execution_count": 15,
   "metadata": {},
   "outputs": [
    {
     "name": "stdout",
     "output_type": "stream",
     "text": [
      "0     a\n",
      "4     e\n",
      "8     i\n",
      "14    o\n",
      "20    u\n",
      "dtype: object\n"
     ]
    }
   ],
   "source": [
    "#14 From ser, extract the items at positions in list pos.\n",
    "ser = pd.Series(list('abcdefghijklmnopqrstuvwxyz'))\n",
    "pos = [0, 4, 8, 14, 20]\n",
    "elems = ser[pos]\n",
    "print(elems)"
   ]
  },
  {
   "cell_type": "code",
   "execution_count": 18,
   "metadata": {},
   "outputs": [
    {
     "name": "stdout",
     "output_type": "stream",
     "text": [
      "0    0\n",
      "1    1\n",
      "2    2\n",
      "3    3\n",
      "4    4\n",
      "0    a\n",
      "1    b\n",
      "2    c\n",
      "3    d\n",
      "4    e\n",
      "dtype: object\n",
      "   0  1\n",
      "0  0  a\n",
      "1  1  b\n",
      "2  2  c\n",
      "3  3  d\n",
      "4  4  e\n"
     ]
    }
   ],
   "source": [
    "#15 Stack ser1 and ser2 vertically and horizontally (to form a dataframe)\n",
    "ser1 = pd.Series(range(5))\n",
    "ser2 = pd.Series(list('abcde'))\n",
    "vertical = ser1.append(ser2)\n",
    "print(vertical)\n",
    "horizontal = pd.concat([ser1,ser2],axis=1)\n",
    "print(horizontal)"
   ]
  },
  {
   "cell_type": "code",
   "execution_count": 25,
   "metadata": {},
   "outputs": [
    {
     "name": "stdout",
     "output_type": "stream",
     "text": [
      "(array([0, 4, 5, 8], dtype=int32),)\n"
     ]
    }
   ],
   "source": [
    "#16 Get the positions of items of ser2 in ser1 as a list.\n",
    "ser1 = pd.Series([10, 9, 6, 5, 3, 1, 12, 8, 13])\n",
    "ser2 = pd.Series([1, 3, 10, 13])\n",
    "print(np.where(ser1.isin(ser2)))"
   ]
  },
  {
   "cell_type": "code",
   "execution_count": null,
   "metadata": {},
   "outputs": [],
   "source": []
  }
 ],
 "metadata": {
  "kernelspec": {
   "display_name": "Python 3",
   "language": "python",
   "name": "python3"
  },
  "language_info": {
   "codemirror_mode": {
    "name": "ipython",
    "version": 3
   },
   "file_extension": ".py",
   "mimetype": "text/x-python",
   "name": "python",
   "nbconvert_exporter": "python",
   "pygments_lexer": "ipython3",
   "version": "3.8.0"
  }
 },
 "nbformat": 4,
 "nbformat_minor": 4
}
